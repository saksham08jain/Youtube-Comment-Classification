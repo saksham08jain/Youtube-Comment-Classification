{
  "cells": [
    {
      "cell_type": "code",
      "execution_count": null,
      "metadata": {
        "id": "Z16g2OPOTExi"
      },
      "outputs": [],
      "source": [
        "import csv\n",
        "import pandas as pd\n",
        "import numpy as np"
      ]
    },
    {
      "cell_type": "code",
      "execution_count": null,
      "metadata": {
        "colab": {
          "base_uri": "https://localhost:8080/"
        },
        "id": "SZhHWegjJToX",
        "outputId": "2c429fcc-b6af-43bd-bf89-e83e4c651282"
      },
      "outputs": [
        {
          "output_type": "stream",
          "name": "stdout",
          "text": [
            "Drive already mounted at /content/gdrive; to attempt to forcibly remount, call drive.mount(\"/content/gdrive\", force_remount=True).\n"
          ]
        }
      ],
      "source": [
        "from google.colab import drive\n",
        "drive.mount('/content/gdrive')\n"
      ]
    },
    {
      "cell_type": "markdown",
      "source": [
        "#***Reading the csv file***#"
      ],
      "metadata": {
        "id": "8HuJKEfrri5g"
      }
    },
    {
      "cell_type": "code",
      "execution_count": null,
      "metadata": {
        "id": "lGjU7T5rMuPu"
      },
      "outputs": [],
      "source": [
        "file_path=\"/content/gdrive/MyDrive/YT_Videos_Comments.csv\""
      ]
    },
    {
      "cell_type": "code",
      "execution_count": null,
      "metadata": {
        "colab": {
          "base_uri": "https://localhost:8080/",
          "height": 354
        },
        "id": "X7lGEF5bQ9zE",
        "outputId": "b80f8d20-b821-4587-8e2c-3145bb9869f7"
      },
      "outputs": [
        {
          "output_type": "execute_result",
          "data": {
            "text/plain": [
              "         User                           Video Title  \\\n",
              "0  Cleo Abram  Robots made of spiders (yes, really)   \n",
              "1  Cleo Abram  Robots made of spiders (yes, really)   \n",
              "2  Cleo Abram  Robots made of spiders (yes, really)   \n",
              "3  Cleo Abram  Robots made of spiders (yes, really)   \n",
              "4  Cleo Abram  Robots made of spiders (yes, really)   \n",
              "\n",
              "                                   Video Description     Video ID  \\\n",
              "0  I'M SORRY OK. But this is fascinating. \\n\\nSci...  YXd4z3gWyVE   \n",
              "1  I'M SORRY OK. But this is fascinating. \\n\\nSci...  YXd4z3gWyVE   \n",
              "2  I'M SORRY OK. But this is fascinating. \\n\\nSci...  YXd4z3gWyVE   \n",
              "3  I'M SORRY OK. But this is fascinating. \\n\\nSci...  YXd4z3gWyVE   \n",
              "4  I'M SORRY OK. But this is fascinating. \\n\\nSci...  YXd4z3gWyVE   \n",
              "\n",
              "                                 Comment (Displayed)  \\\n",
              "0  zombie spider!! bomb the damn lab before it&#3...   \n",
              "1  This is way less cool than it seems, spiders a...   \n",
              "2  Spiders see this and this is why they made the...   \n",
              "3                                 you looks pretty 😍   \n",
              "4  I can hear the hairs standing up on my wife’s ...   \n",
              "\n",
              "                                    Comment (Actual)  Comment Author  \\\n",
              "0  zombie spider!! bomb the damn lab before it's ...    Bagus Hutomo   \n",
              "1  This is way less cool than it seems, spiders a...         CMZ neu   \n",
              "2  Spiders see this and this is why they made the...   Kiana Marrie    \n",
              "3                                 you looks pretty 😍            Noob   \n",
              "4  I can hear the hairs standing up on my wife’s ...  chancellor9000   \n",
              "\n",
              "  Comment Author Channel ID          Comment Time  \n",
              "0  UC-F6GFyxAqGhN3_MEJLksxg  2023-03-11T07:39:33Z  \n",
              "1  UCZKnVEtNze-fFxCvsRnaIuA  2023-03-11T05:26:10Z  \n",
              "2  UCutp6oeKAxsO6fXp1vyzvIQ  2023-03-11T04:02:27Z  \n",
              "3  UC9J99riIPd6ja-XDFSwrY-Q  2023-03-11T02:50:50Z  \n",
              "4  UC8WEPXkCSh87h6kBcFT-o1g  2023-03-11T02:46:02Z  "
            ],
            "text/html": [
              "\n",
              "  <div id=\"df-8fc2f6f9-4234-44f6-b464-649b19e9170b\">\n",
              "    <div class=\"colab-df-container\">\n",
              "      <div>\n",
              "<style scoped>\n",
              "    .dataframe tbody tr th:only-of-type {\n",
              "        vertical-align: middle;\n",
              "    }\n",
              "\n",
              "    .dataframe tbody tr th {\n",
              "        vertical-align: top;\n",
              "    }\n",
              "\n",
              "    .dataframe thead th {\n",
              "        text-align: right;\n",
              "    }\n",
              "</style>\n",
              "<table border=\"1\" class=\"dataframe\">\n",
              "  <thead>\n",
              "    <tr style=\"text-align: right;\">\n",
              "      <th></th>\n",
              "      <th>User</th>\n",
              "      <th>Video Title</th>\n",
              "      <th>Video Description</th>\n",
              "      <th>Video ID</th>\n",
              "      <th>Comment (Displayed)</th>\n",
              "      <th>Comment (Actual)</th>\n",
              "      <th>Comment Author</th>\n",
              "      <th>Comment Author Channel ID</th>\n",
              "      <th>Comment Time</th>\n",
              "    </tr>\n",
              "  </thead>\n",
              "  <tbody>\n",
              "    <tr>\n",
              "      <th>0</th>\n",
              "      <td>Cleo Abram</td>\n",
              "      <td>Robots made of spiders (yes, really)</td>\n",
              "      <td>I'M SORRY OK. But this is fascinating. \\n\\nSci...</td>\n",
              "      <td>YXd4z3gWyVE</td>\n",
              "      <td>zombie spider!! bomb the damn lab before it&amp;#3...</td>\n",
              "      <td>zombie spider!! bomb the damn lab before it's ...</td>\n",
              "      <td>Bagus Hutomo</td>\n",
              "      <td>UC-F6GFyxAqGhN3_MEJLksxg</td>\n",
              "      <td>2023-03-11T07:39:33Z</td>\n",
              "    </tr>\n",
              "    <tr>\n",
              "      <th>1</th>\n",
              "      <td>Cleo Abram</td>\n",
              "      <td>Robots made of spiders (yes, really)</td>\n",
              "      <td>I'M SORRY OK. But this is fascinating. \\n\\nSci...</td>\n",
              "      <td>YXd4z3gWyVE</td>\n",
              "      <td>This is way less cool than it seems, spiders a...</td>\n",
              "      <td>This is way less cool than it seems, spiders a...</td>\n",
              "      <td>CMZ neu</td>\n",
              "      <td>UCZKnVEtNze-fFxCvsRnaIuA</td>\n",
              "      <td>2023-03-11T05:26:10Z</td>\n",
              "    </tr>\n",
              "    <tr>\n",
              "      <th>2</th>\n",
              "      <td>Cleo Abram</td>\n",
              "      <td>Robots made of spiders (yes, really)</td>\n",
              "      <td>I'M SORRY OK. But this is fascinating. \\n\\nSci...</td>\n",
              "      <td>YXd4z3gWyVE</td>\n",
              "      <td>Spiders see this and this is why they made the...</td>\n",
              "      <td>Spiders see this and this is why they made the...</td>\n",
              "      <td>Kiana Marrie</td>\n",
              "      <td>UCutp6oeKAxsO6fXp1vyzvIQ</td>\n",
              "      <td>2023-03-11T04:02:27Z</td>\n",
              "    </tr>\n",
              "    <tr>\n",
              "      <th>3</th>\n",
              "      <td>Cleo Abram</td>\n",
              "      <td>Robots made of spiders (yes, really)</td>\n",
              "      <td>I'M SORRY OK. But this is fascinating. \\n\\nSci...</td>\n",
              "      <td>YXd4z3gWyVE</td>\n",
              "      <td>you looks pretty 😍</td>\n",
              "      <td>you looks pretty 😍</td>\n",
              "      <td>Noob</td>\n",
              "      <td>UC9J99riIPd6ja-XDFSwrY-Q</td>\n",
              "      <td>2023-03-11T02:50:50Z</td>\n",
              "    </tr>\n",
              "    <tr>\n",
              "      <th>4</th>\n",
              "      <td>Cleo Abram</td>\n",
              "      <td>Robots made of spiders (yes, really)</td>\n",
              "      <td>I'M SORRY OK. But this is fascinating. \\n\\nSci...</td>\n",
              "      <td>YXd4z3gWyVE</td>\n",
              "      <td>I can hear the hairs standing up on my wife’s ...</td>\n",
              "      <td>I can hear the hairs standing up on my wife’s ...</td>\n",
              "      <td>chancellor9000</td>\n",
              "      <td>UC8WEPXkCSh87h6kBcFT-o1g</td>\n",
              "      <td>2023-03-11T02:46:02Z</td>\n",
              "    </tr>\n",
              "  </tbody>\n",
              "</table>\n",
              "</div>\n",
              "      <button class=\"colab-df-convert\" onclick=\"convertToInteractive('df-8fc2f6f9-4234-44f6-b464-649b19e9170b')\"\n",
              "              title=\"Convert this dataframe to an interactive table.\"\n",
              "              style=\"display:none;\">\n",
              "        \n",
              "  <svg xmlns=\"http://www.w3.org/2000/svg\" height=\"24px\"viewBox=\"0 0 24 24\"\n",
              "       width=\"24px\">\n",
              "    <path d=\"M0 0h24v24H0V0z\" fill=\"none\"/>\n",
              "    <path d=\"M18.56 5.44l.94 2.06.94-2.06 2.06-.94-2.06-.94-.94-2.06-.94 2.06-2.06.94zm-11 1L8.5 8.5l.94-2.06 2.06-.94-2.06-.94L8.5 2.5l-.94 2.06-2.06.94zm10 10l.94 2.06.94-2.06 2.06-.94-2.06-.94-.94-2.06-.94 2.06-2.06.94z\"/><path d=\"M17.41 7.96l-1.37-1.37c-.4-.4-.92-.59-1.43-.59-.52 0-1.04.2-1.43.59L10.3 9.45l-7.72 7.72c-.78.78-.78 2.05 0 2.83L4 21.41c.39.39.9.59 1.41.59.51 0 1.02-.2 1.41-.59l7.78-7.78 2.81-2.81c.8-.78.8-2.07 0-2.86zM5.41 20L4 18.59l7.72-7.72 1.47 1.35L5.41 20z\"/>\n",
              "  </svg>\n",
              "      </button>\n",
              "      \n",
              "  <style>\n",
              "    .colab-df-container {\n",
              "      display:flex;\n",
              "      flex-wrap:wrap;\n",
              "      gap: 12px;\n",
              "    }\n",
              "\n",
              "    .colab-df-convert {\n",
              "      background-color: #E8F0FE;\n",
              "      border: none;\n",
              "      border-radius: 50%;\n",
              "      cursor: pointer;\n",
              "      display: none;\n",
              "      fill: #1967D2;\n",
              "      height: 32px;\n",
              "      padding: 0 0 0 0;\n",
              "      width: 32px;\n",
              "    }\n",
              "\n",
              "    .colab-df-convert:hover {\n",
              "      background-color: #E2EBFA;\n",
              "      box-shadow: 0px 1px 2px rgba(60, 64, 67, 0.3), 0px 1px 3px 1px rgba(60, 64, 67, 0.15);\n",
              "      fill: #174EA6;\n",
              "    }\n",
              "\n",
              "    [theme=dark] .colab-df-convert {\n",
              "      background-color: #3B4455;\n",
              "      fill: #D2E3FC;\n",
              "    }\n",
              "\n",
              "    [theme=dark] .colab-df-convert:hover {\n",
              "      background-color: #434B5C;\n",
              "      box-shadow: 0px 1px 3px 1px rgba(0, 0, 0, 0.15);\n",
              "      filter: drop-shadow(0px 1px 2px rgba(0, 0, 0, 0.3));\n",
              "      fill: #FFFFFF;\n",
              "    }\n",
              "  </style>\n",
              "\n",
              "      <script>\n",
              "        const buttonEl =\n",
              "          document.querySelector('#df-8fc2f6f9-4234-44f6-b464-649b19e9170b button.colab-df-convert');\n",
              "        buttonEl.style.display =\n",
              "          google.colab.kernel.accessAllowed ? 'block' : 'none';\n",
              "\n",
              "        async function convertToInteractive(key) {\n",
              "          const element = document.querySelector('#df-8fc2f6f9-4234-44f6-b464-649b19e9170b');\n",
              "          const dataTable =\n",
              "            await google.colab.kernel.invokeFunction('convertToInteractive',\n",
              "                                                     [key], {});\n",
              "          if (!dataTable) return;\n",
              "\n",
              "          const docLinkHtml = 'Like what you see? Visit the ' +\n",
              "            '<a target=\"_blank\" href=https://colab.research.google.com/notebooks/data_table.ipynb>data table notebook</a>'\n",
              "            + ' to learn more about interactive tables.';\n",
              "          element.innerHTML = '';\n",
              "          dataTable['output_type'] = 'display_data';\n",
              "          await google.colab.output.renderOutput(dataTable, element);\n",
              "          const docLink = document.createElement('div');\n",
              "          docLink.innerHTML = docLinkHtml;\n",
              "          element.appendChild(docLink);\n",
              "        }\n",
              "      </script>\n",
              "    </div>\n",
              "  </div>\n",
              "  "
            ]
          },
          "metadata": {},
          "execution_count": 5
        }
      ],
      "source": [
        "with open(file_path, 'r') as f:\n",
        "    reader = csv.reader(f)\n",
        "    # Create list of rows\n",
        "    rows = [row for row in reader]\n",
        "\n",
        "# Create Pandas DataFrame\n",
        "df = pd.DataFrame(rows[1:], columns=rows[0])\n",
        "\n",
        "# Display first 5 rows of the DataFrame\n",
        "df.head()"
      ]
    },
    {
      "cell_type": "markdown",
      "source": [
        "#***Pre-processing***#"
      ],
      "metadata": {
        "id": "5o8tOs2qrc-C"
      }
    },
    {
      "cell_type": "code",
      "execution_count": null,
      "metadata": {
        "colab": {
          "base_uri": "https://localhost:8080/"
        },
        "id": "AN6u31ZJSZhs",
        "outputId": "4942656a-a277-44b7-e59b-fe957a9578cb"
      },
      "outputs": [
        {
          "output_type": "execute_result",
          "data": {
            "text/plain": [
              "User                           0\n",
              "Video Title                  149\n",
              "Video Description            162\n",
              "Video ID                     162\n",
              "Comment (Displayed)          177\n",
              "Comment (Actual)             426\n",
              "Comment Author               428\n",
              "Comment Author Channel ID    428\n",
              "Comment Time                 428\n",
              "dtype: int64"
            ]
          },
          "metadata": {},
          "execution_count": 6
        }
      ],
      "source": [
        "df.isnull().sum()"
      ]
    },
    {
      "cell_type": "code",
      "source": [
        "# To drop the null values\n",
        "\n",
        "df.dropna(inplace=True);\n",
        "df=df.reset_index(drop=True);"
      ],
      "metadata": {
        "id": "De03Y6DI77vC"
      },
      "execution_count": null,
      "outputs": []
    },
    {
      "cell_type": "code",
      "execution_count": null,
      "metadata": {
        "colab": {
          "base_uri": "https://localhost:8080/",
          "height": 814
        },
        "id": "zpZrotm-Uqph",
        "outputId": "1bed11cf-101f-4363-b68b-f0fbd4c42f0f"
      },
      "outputs": [
        {
          "output_type": "execute_result",
          "data": {
            "text/plain": [
              "                User                                 Video Title  \\\n",
              "0         Cleo Abram        Robots made of spiders (yes, really)   \n",
              "1         Cleo Abram        Robots made of spiders (yes, really)   \n",
              "2         Cleo Abram        Robots made of spiders (yes, really)   \n",
              "3         Cleo Abram        Robots made of spiders (yes, really)   \n",
              "4         Cleo Abram        Robots made of spiders (yes, really)   \n",
              "...              ...                                         ...   \n",
              "379095  Physics Girl  5 AMAZING stars we’ve discovered in space!   \n",
              "379096  Physics Girl  5 AMAZING stars we’ve discovered in space!   \n",
              "379097  Physics Girl  5 AMAZING stars we’ve discovered in space!   \n",
              "379098  Physics Girl  5 AMAZING stars we’ve discovered in space!   \n",
              "379099  Physics Girl  5 AMAZING stars we’ve discovered in space!   \n",
              "\n",
              "                                        Video Description     Video ID  \\\n",
              "0       I'M SORRY OK. But this is fascinating. \\n\\nSci...  YXd4z3gWyVE   \n",
              "1       I'M SORRY OK. But this is fascinating. \\n\\nSci...  YXd4z3gWyVE   \n",
              "2       I'M SORRY OK. But this is fascinating. \\n\\nSci...  YXd4z3gWyVE   \n",
              "3       I'M SORRY OK. But this is fascinating. \\n\\nSci...  YXd4z3gWyVE   \n",
              "4       I'M SORRY OK. But this is fascinating. \\n\\nSci...  YXd4z3gWyVE   \n",
              "...                                                   ...          ...   \n",
              "379095  This episode is brought to you by Squarespace:...  xyXpQxz7BOs   \n",
              "379096  This episode is brought to you by Squarespace:...  xyXpQxz7BOs   \n",
              "379097  This episode is brought to you by Squarespace:...  xyXpQxz7BOs   \n",
              "379098  This episode is brought to you by Squarespace:...  xyXpQxz7BOs   \n",
              "379099  This episode is brought to you by Squarespace:...  xyXpQxz7BOs   \n",
              "\n",
              "                                      Comment (Displayed)  \\\n",
              "0       zombie spider!! bomb the damn lab before it&#3...   \n",
              "1       This is way less cool than it seems, spiders a...   \n",
              "2       Spiders see this and this is why they made the...   \n",
              "3                                      you looks pretty 😍   \n",
              "4       I can hear the hairs standing up on my wife’s ...   \n",
              "...                                                   ...   \n",
              "379095  hey girl,make more vdos and make it lengthy .....   \n",
              "379096                                              Third   \n",
              "379097                                              third   \n",
              "379098                                             Second   \n",
              "379099                                              first   \n",
              "\n",
              "                                         Comment (Actual)  \\\n",
              "0       zombie spider!! bomb the damn lab before it's ...   \n",
              "1       This is way less cool than it seems, spiders a...   \n",
              "2       Spiders see this and this is why they made the...   \n",
              "3                                      you looks pretty 😍   \n",
              "4       I can hear the hairs standing up on my wife’s ...   \n",
              "...                                                   ...   \n",
              "379095  hey girl,make more vdos and make it lengthy .....   \n",
              "379096                                              Third   \n",
              "379097                                              third   \n",
              "379098                                             Second   \n",
              "379099                                              first   \n",
              "\n",
              "             Comment Author Comment Author Channel ID          Comment Time  \n",
              "0              Bagus Hutomo  UC-F6GFyxAqGhN3_MEJLksxg  2023-03-11T07:39:33Z  \n",
              "1                   CMZ neu  UCZKnVEtNze-fFxCvsRnaIuA  2023-03-11T05:26:10Z  \n",
              "2             Kiana Marrie   UCutp6oeKAxsO6fXp1vyzvIQ  2023-03-11T04:02:27Z  \n",
              "3                      Noob  UC9J99riIPd6ja-XDFSwrY-Q  2023-03-11T02:50:50Z  \n",
              "4            chancellor9000  UC8WEPXkCSh87h6kBcFT-o1g  2023-03-11T02:46:02Z  \n",
              "...                     ...                       ...                   ...  \n",
              "379095       Omkar Bhambure  UCgY0dubqhFHVD6wWq37UCtg  2016-01-12T21:32:52Z  \n",
              "379096         Izzo Mapping  UCF0vKXNgNwO2iutasiiLoNQ  2016-01-12T21:30:37Z  \n",
              "379097           Indecisive  UChNeyv6tBcgrjfXJiy3xRFg  2016-01-12T21:30:34Z  \n",
              "379098               Nathan  UCkMeQzamGWna00H_sMQddvQ  2016-01-12T21:30:02Z  \n",
              "379099  The Physicist Cuber  UCnpO0ObncSaFW2fKSAp-OrA  2016-01-12T21:29:47Z  \n",
              "\n",
              "[379100 rows x 9 columns]"
            ],
            "text/html": [
              "\n",
              "  <div id=\"df-9ad19c94-0b07-4a63-b726-96a9d0a2b67f\">\n",
              "    <div class=\"colab-df-container\">\n",
              "      <div>\n",
              "<style scoped>\n",
              "    .dataframe tbody tr th:only-of-type {\n",
              "        vertical-align: middle;\n",
              "    }\n",
              "\n",
              "    .dataframe tbody tr th {\n",
              "        vertical-align: top;\n",
              "    }\n",
              "\n",
              "    .dataframe thead th {\n",
              "        text-align: right;\n",
              "    }\n",
              "</style>\n",
              "<table border=\"1\" class=\"dataframe\">\n",
              "  <thead>\n",
              "    <tr style=\"text-align: right;\">\n",
              "      <th></th>\n",
              "      <th>User</th>\n",
              "      <th>Video Title</th>\n",
              "      <th>Video Description</th>\n",
              "      <th>Video ID</th>\n",
              "      <th>Comment (Displayed)</th>\n",
              "      <th>Comment (Actual)</th>\n",
              "      <th>Comment Author</th>\n",
              "      <th>Comment Author Channel ID</th>\n",
              "      <th>Comment Time</th>\n",
              "    </tr>\n",
              "  </thead>\n",
              "  <tbody>\n",
              "    <tr>\n",
              "      <th>0</th>\n",
              "      <td>Cleo Abram</td>\n",
              "      <td>Robots made of spiders (yes, really)</td>\n",
              "      <td>I'M SORRY OK. But this is fascinating. \\n\\nSci...</td>\n",
              "      <td>YXd4z3gWyVE</td>\n",
              "      <td>zombie spider!! bomb the damn lab before it&amp;#3...</td>\n",
              "      <td>zombie spider!! bomb the damn lab before it's ...</td>\n",
              "      <td>Bagus Hutomo</td>\n",
              "      <td>UC-F6GFyxAqGhN3_MEJLksxg</td>\n",
              "      <td>2023-03-11T07:39:33Z</td>\n",
              "    </tr>\n",
              "    <tr>\n",
              "      <th>1</th>\n",
              "      <td>Cleo Abram</td>\n",
              "      <td>Robots made of spiders (yes, really)</td>\n",
              "      <td>I'M SORRY OK. But this is fascinating. \\n\\nSci...</td>\n",
              "      <td>YXd4z3gWyVE</td>\n",
              "      <td>This is way less cool than it seems, spiders a...</td>\n",
              "      <td>This is way less cool than it seems, spiders a...</td>\n",
              "      <td>CMZ neu</td>\n",
              "      <td>UCZKnVEtNze-fFxCvsRnaIuA</td>\n",
              "      <td>2023-03-11T05:26:10Z</td>\n",
              "    </tr>\n",
              "    <tr>\n",
              "      <th>2</th>\n",
              "      <td>Cleo Abram</td>\n",
              "      <td>Robots made of spiders (yes, really)</td>\n",
              "      <td>I'M SORRY OK. But this is fascinating. \\n\\nSci...</td>\n",
              "      <td>YXd4z3gWyVE</td>\n",
              "      <td>Spiders see this and this is why they made the...</td>\n",
              "      <td>Spiders see this and this is why they made the...</td>\n",
              "      <td>Kiana Marrie</td>\n",
              "      <td>UCutp6oeKAxsO6fXp1vyzvIQ</td>\n",
              "      <td>2023-03-11T04:02:27Z</td>\n",
              "    </tr>\n",
              "    <tr>\n",
              "      <th>3</th>\n",
              "      <td>Cleo Abram</td>\n",
              "      <td>Robots made of spiders (yes, really)</td>\n",
              "      <td>I'M SORRY OK. But this is fascinating. \\n\\nSci...</td>\n",
              "      <td>YXd4z3gWyVE</td>\n",
              "      <td>you looks pretty 😍</td>\n",
              "      <td>you looks pretty 😍</td>\n",
              "      <td>Noob</td>\n",
              "      <td>UC9J99riIPd6ja-XDFSwrY-Q</td>\n",
              "      <td>2023-03-11T02:50:50Z</td>\n",
              "    </tr>\n",
              "    <tr>\n",
              "      <th>4</th>\n",
              "      <td>Cleo Abram</td>\n",
              "      <td>Robots made of spiders (yes, really)</td>\n",
              "      <td>I'M SORRY OK. But this is fascinating. \\n\\nSci...</td>\n",
              "      <td>YXd4z3gWyVE</td>\n",
              "      <td>I can hear the hairs standing up on my wife’s ...</td>\n",
              "      <td>I can hear the hairs standing up on my wife’s ...</td>\n",
              "      <td>chancellor9000</td>\n",
              "      <td>UC8WEPXkCSh87h6kBcFT-o1g</td>\n",
              "      <td>2023-03-11T02:46:02Z</td>\n",
              "    </tr>\n",
              "    <tr>\n",
              "      <th>...</th>\n",
              "      <td>...</td>\n",
              "      <td>...</td>\n",
              "      <td>...</td>\n",
              "      <td>...</td>\n",
              "      <td>...</td>\n",
              "      <td>...</td>\n",
              "      <td>...</td>\n",
              "      <td>...</td>\n",
              "      <td>...</td>\n",
              "    </tr>\n",
              "    <tr>\n",
              "      <th>379095</th>\n",
              "      <td>Physics Girl</td>\n",
              "      <td>5 AMAZING stars we’ve discovered in space!</td>\n",
              "      <td>This episode is brought to you by Squarespace:...</td>\n",
              "      <td>xyXpQxz7BOs</td>\n",
              "      <td>hey girl,make more vdos and make it lengthy .....</td>\n",
              "      <td>hey girl,make more vdos and make it lengthy .....</td>\n",
              "      <td>Omkar Bhambure</td>\n",
              "      <td>UCgY0dubqhFHVD6wWq37UCtg</td>\n",
              "      <td>2016-01-12T21:32:52Z</td>\n",
              "    </tr>\n",
              "    <tr>\n",
              "      <th>379096</th>\n",
              "      <td>Physics Girl</td>\n",
              "      <td>5 AMAZING stars we’ve discovered in space!</td>\n",
              "      <td>This episode is brought to you by Squarespace:...</td>\n",
              "      <td>xyXpQxz7BOs</td>\n",
              "      <td>Third</td>\n",
              "      <td>Third</td>\n",
              "      <td>Izzo Mapping</td>\n",
              "      <td>UCF0vKXNgNwO2iutasiiLoNQ</td>\n",
              "      <td>2016-01-12T21:30:37Z</td>\n",
              "    </tr>\n",
              "    <tr>\n",
              "      <th>379097</th>\n",
              "      <td>Physics Girl</td>\n",
              "      <td>5 AMAZING stars we’ve discovered in space!</td>\n",
              "      <td>This episode is brought to you by Squarespace:...</td>\n",
              "      <td>xyXpQxz7BOs</td>\n",
              "      <td>third</td>\n",
              "      <td>third</td>\n",
              "      <td>Indecisive</td>\n",
              "      <td>UChNeyv6tBcgrjfXJiy3xRFg</td>\n",
              "      <td>2016-01-12T21:30:34Z</td>\n",
              "    </tr>\n",
              "    <tr>\n",
              "      <th>379098</th>\n",
              "      <td>Physics Girl</td>\n",
              "      <td>5 AMAZING stars we’ve discovered in space!</td>\n",
              "      <td>This episode is brought to you by Squarespace:...</td>\n",
              "      <td>xyXpQxz7BOs</td>\n",
              "      <td>Second</td>\n",
              "      <td>Second</td>\n",
              "      <td>Nathan</td>\n",
              "      <td>UCkMeQzamGWna00H_sMQddvQ</td>\n",
              "      <td>2016-01-12T21:30:02Z</td>\n",
              "    </tr>\n",
              "    <tr>\n",
              "      <th>379099</th>\n",
              "      <td>Physics Girl</td>\n",
              "      <td>5 AMAZING stars we’ve discovered in space!</td>\n",
              "      <td>This episode is brought to you by Squarespace:...</td>\n",
              "      <td>xyXpQxz7BOs</td>\n",
              "      <td>first</td>\n",
              "      <td>first</td>\n",
              "      <td>The Physicist Cuber</td>\n",
              "      <td>UCnpO0ObncSaFW2fKSAp-OrA</td>\n",
              "      <td>2016-01-12T21:29:47Z</td>\n",
              "    </tr>\n",
              "  </tbody>\n",
              "</table>\n",
              "<p>379100 rows × 9 columns</p>\n",
              "</div>\n",
              "      <button class=\"colab-df-convert\" onclick=\"convertToInteractive('df-9ad19c94-0b07-4a63-b726-96a9d0a2b67f')\"\n",
              "              title=\"Convert this dataframe to an interactive table.\"\n",
              "              style=\"display:none;\">\n",
              "        \n",
              "  <svg xmlns=\"http://www.w3.org/2000/svg\" height=\"24px\"viewBox=\"0 0 24 24\"\n",
              "       width=\"24px\">\n",
              "    <path d=\"M0 0h24v24H0V0z\" fill=\"none\"/>\n",
              "    <path d=\"M18.56 5.44l.94 2.06.94-2.06 2.06-.94-2.06-.94-.94-2.06-.94 2.06-2.06.94zm-11 1L8.5 8.5l.94-2.06 2.06-.94-2.06-.94L8.5 2.5l-.94 2.06-2.06.94zm10 10l.94 2.06.94-2.06 2.06-.94-2.06-.94-.94-2.06-.94 2.06-2.06.94z\"/><path d=\"M17.41 7.96l-1.37-1.37c-.4-.4-.92-.59-1.43-.59-.52 0-1.04.2-1.43.59L10.3 9.45l-7.72 7.72c-.78.78-.78 2.05 0 2.83L4 21.41c.39.39.9.59 1.41.59.51 0 1.02-.2 1.41-.59l7.78-7.78 2.81-2.81c.8-.78.8-2.07 0-2.86zM5.41 20L4 18.59l7.72-7.72 1.47 1.35L5.41 20z\"/>\n",
              "  </svg>\n",
              "      </button>\n",
              "      \n",
              "  <style>\n",
              "    .colab-df-container {\n",
              "      display:flex;\n",
              "      flex-wrap:wrap;\n",
              "      gap: 12px;\n",
              "    }\n",
              "\n",
              "    .colab-df-convert {\n",
              "      background-color: #E8F0FE;\n",
              "      border: none;\n",
              "      border-radius: 50%;\n",
              "      cursor: pointer;\n",
              "      display: none;\n",
              "      fill: #1967D2;\n",
              "      height: 32px;\n",
              "      padding: 0 0 0 0;\n",
              "      width: 32px;\n",
              "    }\n",
              "\n",
              "    .colab-df-convert:hover {\n",
              "      background-color: #E2EBFA;\n",
              "      box-shadow: 0px 1px 2px rgba(60, 64, 67, 0.3), 0px 1px 3px 1px rgba(60, 64, 67, 0.15);\n",
              "      fill: #174EA6;\n",
              "    }\n",
              "\n",
              "    [theme=dark] .colab-df-convert {\n",
              "      background-color: #3B4455;\n",
              "      fill: #D2E3FC;\n",
              "    }\n",
              "\n",
              "    [theme=dark] .colab-df-convert:hover {\n",
              "      background-color: #434B5C;\n",
              "      box-shadow: 0px 1px 3px 1px rgba(0, 0, 0, 0.15);\n",
              "      filter: drop-shadow(0px 1px 2px rgba(0, 0, 0, 0.3));\n",
              "      fill: #FFFFFF;\n",
              "    }\n",
              "  </style>\n",
              "\n",
              "      <script>\n",
              "        const buttonEl =\n",
              "          document.querySelector('#df-9ad19c94-0b07-4a63-b726-96a9d0a2b67f button.colab-df-convert');\n",
              "        buttonEl.style.display =\n",
              "          google.colab.kernel.accessAllowed ? 'block' : 'none';\n",
              "\n",
              "        async function convertToInteractive(key) {\n",
              "          const element = document.querySelector('#df-9ad19c94-0b07-4a63-b726-96a9d0a2b67f');\n",
              "          const dataTable =\n",
              "            await google.colab.kernel.invokeFunction('convertToInteractive',\n",
              "                                                     [key], {});\n",
              "          if (!dataTable) return;\n",
              "\n",
              "          const docLinkHtml = 'Like what you see? Visit the ' +\n",
              "            '<a target=\"_blank\" href=https://colab.research.google.com/notebooks/data_table.ipynb>data table notebook</a>'\n",
              "            + ' to learn more about interactive tables.';\n",
              "          element.innerHTML = '';\n",
              "          dataTable['output_type'] = 'display_data';\n",
              "          await google.colab.output.renderOutput(dataTable, element);\n",
              "          const docLink = document.createElement('div');\n",
              "          docLink.innerHTML = docLinkHtml;\n",
              "          element.appendChild(docLink);\n",
              "        }\n",
              "      </script>\n",
              "    </div>\n",
              "  </div>\n",
              "  "
            ]
          },
          "metadata": {},
          "execution_count": 8
        }
      ],
      "source": [
        "df"
      ]
    },
    {
      "cell_type": "markdown",
      "source": [
        "#***Feature Extraction***#"
      ],
      "metadata": {
        "id": "jbtRh4I1rp82"
      }
    },
    {
      "cell_type": "code",
      "source": [
        "!pip install emoji\n",
        "import re\n",
        "import string\n",
        "import emoji\n"
      ],
      "metadata": {
        "colab": {
          "base_uri": "https://localhost:8080/"
        },
        "id": "cVOYGIMWzK4_",
        "outputId": "95405330-6aca-496f-c688-e30258393b1c"
      },
      "execution_count": null,
      "outputs": [
        {
          "output_type": "stream",
          "name": "stdout",
          "text": [
            "Looking in indexes: https://pypi.org/simple, https://us-python.pkg.dev/colab-wheels/public/simple/\n",
            "Requirement already satisfied: emoji in /usr/local/lib/python3.9/dist-packages (2.2.0)\n"
          ]
        }
      ]
    },
    {
      "cell_type": "code",
      "source": [
        "def clean_text(text):\n",
        "    # Convert input to string if necessary\n",
        "    text = str(text)\n",
        "\n",
        "    # Remove URLs\n",
        "    text = re.sub(r'http\\S+', '', text)\n",
        "\n",
        "    # Convert emojis to text representations\n",
        "    text = emoji.demojize(text)\n",
        "\n",
        "    # Remove numbers and punctuation\n",
        "    text = re.sub(r'[0-9]+', '', text)\n",
        "    text = text.translate(str.maketrans('', '', string.punctuation))\n",
        "\n",
        "    # Convert to lowercase\n",
        "    text = text.lower()\n",
        "\n",
        "    # Remove extra whitespace\n",
        "    text = re.sub('\\s+', ' ', text).strip()\n",
        "\n",
        "    return text\n"
      ],
      "metadata": {
        "id": "WZ1Q5-rbyLiT"
      },
      "execution_count": null,
      "outputs": []
    },
    {
      "cell_type": "code",
      "source": [
        "df_shorted=df[:10000];\n",
        "df_shorted;\n",
        "comments=df_shorted[\"Comment (Displayed)\"];\n",
        "\n",
        "#To reset the indices\n",
        "comments=comments.reset_index(drop=True);"
      ],
      "metadata": {
        "id": "GXnwOGQlyp34"
      },
      "execution_count": null,
      "outputs": []
    },
    {
      "cell_type": "code",
      "source": [
        "comments"
      ],
      "metadata": {
        "colab": {
          "base_uri": "https://localhost:8080/"
        },
        "id": "uB6YBiTRrI9T",
        "outputId": "d741043f-85e5-4e40-e05e-875cf372cc0f"
      },
      "execution_count": null,
      "outputs": [
        {
          "output_type": "execute_result",
          "data": {
            "text/plain": [
              "0       zombie spider!! bomb the damn lab before it&#3...\n",
              "1       This is way less cool than it seems, spiders a...\n",
              "2       Spiders see this and this is why they made the...\n",
              "3                                      you looks pretty 😍\n",
              "4       I can hear the hairs standing up on my wife’s ...\n",
              "                              ...                        \n",
              "9995    99.999% chance intelligent life exists elsewhe...\n",
              "9996    The great filter is a cataclysm. We&#39;ve jus...\n",
              "9997             The filter says &quot;Stupid&quot; on it\n",
              "9998    You pass the great filter by advanced spiritua...\n",
              "9999    What gets me is why do we think that what is s...\n",
              "Name: Comment (Displayed), Length: 10000, dtype: object"
            ]
          },
          "metadata": {},
          "execution_count": 12
        }
      ]
    },
    {
      "cell_type": "code",
      "source": [
        "from sklearn.feature_extraction.text import TfidfVectorizer\n",
        "\n",
        "cleaned_text=[clean_text(text) for text in comments]\n",
        "vectorizer = TfidfVectorizer(stop_words='english')\n",
        "tfidf_matrix = vectorizer.fit_transform(cleaned_text)"
      ],
      "metadata": {
        "id": "BF2PT2i8yZav"
      },
      "execution_count": null,
      "outputs": []
    },
    {
      "cell_type": "code",
      "execution_count": null,
      "metadata": {
        "id": "mCeao44WVq9r",
        "colab": {
          "base_uri": "https://localhost:8080/"
        },
        "outputId": "b9d4a0a0-fdfd-4106-bb8c-b1cb98516e9b"
      },
      "outputs": [
        {
          "output_type": "stream",
          "name": "stdout",
          "text": [
            "  (0, 8967)\t0.36245349264801774\n",
            "  (0, 8892)\t0.4137986916027529\n",
            "  (0, 3930)\t0.35249313191910725\n",
            "  (0, 1662)\t0.4244274009700923\n",
            "  (0, 14926)\t0.430665888615294\n",
            "  (0, 17807)\t0.45556006643903046\n",
            "  (1, 15963)\t0.09852372125869469\n",
            "  (1, 7559)\t0.19752454402281125\n",
            "  (1, 2915)\t0.2233008971133604\n",
            "  (1, 9268)\t0.12743307437160406\n",
            "  (1, 15266)\t0.12844020957340968\n",
            "  (1, 9172)\t0.20703782900996937\n",
            "  (1, 13107)\t0.1317502870227305\n",
            "  (1, 9518)\t0.15186833973499841\n",
            "  (1, 17282)\t0.1776446928255475\n",
            "  (1, 6898)\t0.18126147591942024\n",
            "  (1, 3992)\t0.3048674641963767\n",
            "  (1, 135)\t0.1776446928255475\n",
            "  (1, 9191)\t0.07257547987041157\n",
            "  (1, 1178)\t0.20703782900996937\n",
            "  (1, 13774)\t0.20180229047842124\n",
            "  (1, 8723)\t0.06949486779729554\n",
            "  (1, 15971)\t0.11068219976400578\n",
            "  (1, 6900)\t0.20703782900996937\n",
            "  (1, 6270)\t0.16499840781602917\n",
            "  :\t:\n",
            "  (9996, 5877)\t0.2512526106317328\n",
            "  (9996, 6959)\t0.22352360471843988\n",
            "  (9996, 8723)\t0.14366677127325217\n",
            "  (9997, 12859)\t0.726137666062931\n",
            "  (9997, 13912)\t0.5145984117513135\n",
            "  (9997, 6059)\t0.4559743025080523\n",
            "  (9998, 14941)\t0.6224034646426481\n",
            "  (9998, 11359)\t0.4572281119269952\n",
            "  (9998, 6059)\t0.3908349599983855\n",
            "  (9998, 222)\t0.399974987047635\n",
            "  (9998, 6959)\t0.3013709087549885\n",
            "  (9999, 3616)\t0.2863402834624618\n",
            "  (9999, 15385)\t0.5726805669249236\n",
            "  (9999, 11062)\t0.27909935751974463\n",
            "  (9999, 6318)\t0.45374738167402884\n",
            "  (9999, 11732)\t0.17879616991363687\n",
            "  (9999, 15502)\t0.20852946622636054\n",
            "  (9999, 4655)\t0.19346292048275768\n",
            "  (9999, 7669)\t0.13418228613809047\n",
            "  (9999, 6728)\t0.1838967841274257\n",
            "  (9999, 15978)\t0.11982899517460154\n",
            "  (9999, 9148)\t0.2834083260472944\n",
            "  (9999, 9754)\t0.16603470880901505\n",
            "  (9999, 9191)\t0.10037433051675389\n",
            "  (9999, 8723)\t0.09611374037015101\n"
          ]
        }
      ],
      "source": [
        "print(tfidf_matrix)"
      ]
    },
    {
      "cell_type": "code",
      "execution_count": null,
      "metadata": {
        "id": "LvY5ExW4V82i",
        "colab": {
          "base_uri": "https://localhost:8080/"
        },
        "outputId": "74a3ebdb-8d18-460d-c282-2a22ae633567"
      },
      "outputs": [
        {
          "output_type": "execute_result",
          "data": {
            "text/plain": [
              "(10000, 17828)"
            ]
          },
          "metadata": {},
          "execution_count": 15
        }
      ],
      "source": [
        "tfidf_matrix.shape"
      ]
    },
    {
      "cell_type": "code",
      "execution_count": null,
      "metadata": {
        "id": "rRhYBjG0WHwV",
        "colab": {
          "base_uri": "https://localhost:8080/"
        },
        "outputId": "4ffcd3fd-2bc8-4287-c9e3-9f0fb1d419a1"
      },
      "outputs": [
        {
          "output_type": "execute_result",
          "data": {
            "text/plain": [
              "Index(['User', 'Video Title', 'Video Description', 'Video ID',\n",
              "       'Comment (Displayed)', 'Comment (Actual)', 'Comment Author',\n",
              "       'Comment Author Channel ID', 'Comment Time'],\n",
              "      dtype='object')"
            ]
          },
          "metadata": {},
          "execution_count": 16
        }
      ],
      "source": [
        "df_shorted.columns"
      ]
    },
    {
      "cell_type": "markdown",
      "source": [
        "#***Visulaization***#"
      ],
      "metadata": {
        "id": "PYUxq5jPzpsQ"
      }
    },
    {
      "cell_type": "code",
      "source": [
        "# Plot of length of the displayed comment\n",
        "import seaborn as sns\n",
        "df['length'] = df['Comment (Displayed)'].apply(lambda x: len(x))\n",
        "sns.distplot(df[\"length\"],kde=True,bins=30)"
      ],
      "metadata": {
        "colab": {
          "base_uri": "https://localhost:8080/",
          "height": 657
        },
        "id": "gdHbWIUT75bL",
        "outputId": "74dea128-e3e9-4513-e0a6-92cba145d486"
      },
      "execution_count": null,
      "outputs": [
        {
          "output_type": "stream",
          "name": "stderr",
          "text": [
            "<ipython-input-17-a5c174e939d8>:4: UserWarning: \n",
            "\n",
            "`distplot` is a deprecated function and will be removed in seaborn v0.14.0.\n",
            "\n",
            "Please adapt your code to use either `displot` (a figure-level function with\n",
            "similar flexibility) or `histplot` (an axes-level function for histograms).\n",
            "\n",
            "For a guide to updating your code to use the new functions, please see\n",
            "https://gist.github.com/mwaskom/de44147ed2974457ad6372750bbe5751\n",
            "\n",
            "  sns.distplot(df[\"length\"],kde=True,bins=30)\n"
          ]
        },
        {
          "output_type": "execute_result",
          "data": {
            "text/plain": [
              "<Axes: xlabel='length', ylabel='Density'>"
            ]
          },
          "metadata": {},
          "execution_count": 17
        },
        {
          "output_type": "display_data",
          "data": {
            "text/plain": [
              "<Figure size 640x480 with 1 Axes>"
            ],
            "image/png": "[encoded data removed]"
          },
          "metadata": {}
        }
      ]
    },
    {
      "cell_type": "code",
      "source": [
        "# The longest comment\n",
        "print(\"The longest comment is:\\n\",df.loc[df['length'].idxmax(), 'Comment (Displayed)']);\n",
        "print(\"The length of the longest message:\",df['length'].max())"
      ],
      "metadata": {
        "colab": {
          "base_uri": "https://localhost:8080/"
        },
        "id": "CGinzXFS-vHW",
        "outputId": "5c3285ed-5c0b-4249-d52a-ce81e87f2fa2"
      },
      "execution_count": null,
      "outputs": [
        {
          "output_type": "stream",
          "name": "stdout",
          "text": [
            "The longest comment is:\n",
            " ♥️LoveUAllAngelBeautifulSpeaksUpAlwaysAdmiresUrBeautyUtubeSHEPHERDSCHAPELStudyUrsUpFrontAliveGoodBibleReadGospelGodSpellsAsUSpeakAngelStandsInTheMistOfUsEspoAllDIMENSIONS<a href=\"https://www.youtube.com/watch?v=rhMSQ835hQg&amp;t=24m36s\">24:36</a>+LUKE24:31+VanishedDidItBurnAsUOpenScripturesWORD2Wise1ECC9ObeyMyVOICE<a href=\"https://www.youtube.com/watch?v=rhMSQ835hQg&amp;t=7m23s\">7:23</a>JER3:8GodADivorceeWordBecameFLESH<a href=\"https://www.youtube.com/watch?v=rhMSQ835hQg&amp;t=1m14s\">1:14</a>JOHN20:22HolySpiritINHERITANCE<a href=\"https://www.youtube.com/watch?v=rhMSQ835hQg&amp;t=44m28s\">44:28</a>EZE18HRU105mgZincMutationSurvivalAnimalsHEAVEN11ISA<a href=\"https://www.youtube.com/watch?v=rhMSQ835hQg&amp;t=8m20s\">8:20</a>UrMinds2PowerFullLifesLovesMemoriesMiraclesLearnsArtsSciencesMusiciansVoicesSingsFeelsItsREVERENCES1:7PROV<a href=\"https://www.youtube.com/watch?v=rhMSQ835hQg&amp;t=31m12s\">31:12</a>DoesGoodNotEvilTRUTH<a href=\"https://www.youtube.com/watch?v=rhMSQ835hQg&amp;t=4m16s\">4:16</a>GAL<a href=\"https://www.youtube.com/watch?v=rhMSQ835hQg&amp;t=5m25s\">5:25</a>LiveSpiritSexConsimateMARRIAGE16:8EZE1:5ZoaCreaturesZoonChayCHERUBIM4REV<a href=\"https://www.youtube.com/watch?v=rhMSQ835hQg&amp;t=2m13s\">2:13</a>AntipasEnochGUARDIANS<a href=\"https://www.youtube.com/watch?v=rhMSQ835hQg&amp;t=18m10s\">18:10</a>MAT<a href=\"https://www.youtube.com/watch?v=rhMSQ835hQg&amp;t=19m26s\">19:26</a>ALL<a href=\"https://www.youtube.com/watch?v=rhMSQ835hQg&amp;t=11m32s\">11:32</a>HEB12:6LOVE<a href=\"https://www.youtube.com/watch?v=rhMSQ835hQg&amp;t=2m15s\">2:15</a>+1JOHN4:8KnowthNotLoveKnowthNotGOD4GodIsLoveKeyOfDAVID3:7+Rev11:19ArkVoicesANGELS68:17PSALM120_134SONGoFDEGREESSelahStopPauseMeditateMusicDanceReadEveryDayAtDeathEmortalLIFE15YearHaveKidsPROMISE3_2JOHNAhazSunDailSolarSystemWEAPON38ISA64:8SERVENT5:5+1PET<a href=\"https://www.youtube.com/watch?v=rhMSQ835hQg&amp;t=4m14s\">4:14</a>DoublePORTION2:9_15+2KINGS20:9TurnDegreesEthHaadhamApexTecBiologicalSpiritaulEngineeringMANIFEST<a href=\"https://www.youtube.com/watch?v=rhMSQ835hQg&amp;t=1m26s\">1:26</a>COL<a href=\"https://www.youtube.com/watch?v=rhMSQ835hQg&amp;t=3m16s\">3:16</a>HYMNS<a href=\"https://www.youtube.com/watch?v=rhMSQ835hQg&amp;t=6m16s\">6:16</a>+2SAM22ALLApproachRDEAD<a href=\"https://www.youtube.com/watch?v=rhMSQ835hQg&amp;t=17m45s\">17:45</a>+1SAM16:7+LostDayCalendarsExtraDayStoodAllStillMoreDieByeHailStoneThenAnyFightOfMAN<a href=\"https://www.youtube.com/watch?v=rhMSQ835hQg&amp;t=10m11s\">10:11</a>+JOSH<a href=\"https://www.youtube.com/watch?v=rhMSQ835hQg&amp;t=2m11s\">2:11</a>HeartsMelt<a href=\"https://www.youtube.com/watch?v=rhMSQ835hQg&amp;t=2m10s\">2:10</a>NAH1:2+SecondCOMING<a href=\"https://www.youtube.com/watch?v=rhMSQ835hQg&amp;t=3m11s\">3:11</a>ZEPH2:3EARTH<a href=\"https://www.youtube.com/watch?v=rhMSQ835hQg&amp;t=2m14s\">2:14</a>HAB<a href=\"https://www.youtube.com/watch?v=rhMSQ835hQg&amp;t=3m11s\">3:11</a>GoBackSunSTILL2WitnessOnlyMOROMsKnowTHIS12:4+HELAMEN<a href=\"https://www.youtube.com/watch?v=rhMSQ835hQg&amp;t=5m43s\">5:43</a>+FireENCIRCLED84:98DC109:39TESTIMONY<a href=\"https://www.youtube.com/watch?v=rhMSQ835hQg&amp;t=29m40s\">29:40</a>MOSIAH5:2OMNIPOTENT19:6REV<a href=\"https://www.youtube.com/watch?v=rhMSQ835hQg&amp;t=19m20s\">19:20</a>MarkSCOPE<a href=\"https://www.youtube.com/watch?v=rhMSQ835hQg&amp;t=3m17s\">3:17</a>PHi<a href=\"https://www.youtube.com/watch?v=rhMSQ835hQg&amp;t=2m10s\">2:10</a>EarthRECORD6:63MOSES<a href=\"https://www.youtube.com/watch?v=rhMSQ835hQg&amp;t=7m13s\">7:13</a>ENOCH11:5HEB<a href=\"https://www.youtube.com/watch?v=rhMSQ835hQg&amp;t=12m16s\">12:16</a>ESAU4:8GEN49LAMANITEsNEPHITES<a href=\"https://www.youtube.com/watch?v=rhMSQ835hQg&amp;t=4m11s\">4:11</a>+MORMON8USA18ISA29WAR144PS83ElyonElMostHIGH1:8DAN<a href=\"https://www.youtube.com/watch?v=rhMSQ835hQg&amp;t=3m27s\">3:27</a>FireProofConsumingFIRE<a href=\"https://www.youtube.com/watch?v=rhMSQ835hQg&amp;t=12m29s\">12:29</a>HEB13:2EntertainingAngelsELECTION<a href=\"https://www.youtube.com/watch?v=rhMSQ835hQg&amp;t=9m11s\">9:11</a>+ROM<a href=\"https://www.youtube.com/watch?v=rhMSQ835hQg&amp;t=12m20s\">12:20</a>HeapcoalsFireForeheadsGlobelThinkWarmingConscieneSearedHotIRON4:2+1TIM<a href=\"https://www.youtube.com/watch?v=rhMSQ835hQg&amp;t=5m15s\">5:15</a>LEARN<a href=\"https://www.youtube.com/watch?v=rhMSQ835hQg&amp;t=3m16s\">3:16</a>+2TIM2SoldiersDevouringFlamingFireRoundABOUT2:3LAM4:7NAZARITESEvilKILL12:2+ROM2:1+HEART11DEU<a href=\"https://www.youtube.com/watch?v=rhMSQ835hQg&amp;t=32m10s\">32:10</a>DIE7DEMON<a href=\"https://www.youtube.com/watch?v=rhMSQ835hQg&amp;t=11m23s\">11:23</a>+LUKE12:10+PATTERN<a href=\"https://www.youtube.com/watch?v=rhMSQ835hQg&amp;t=1m16s\">1:16</a>+1TIM<a href=\"https://www.youtube.com/watch?v=rhMSQ835hQg&amp;t=6m15s\">6:15</a>+RulerMEDIATOR2:5+1TIM3BishopEvacStayDontBurnHousesLeaveNWOWillBSafeAllCoronaHivCantEnterWOMB89SarahBabyTIME21:7GEN4PaternalTWINS<a href=\"https://www.youtube.com/watch?v=rhMSQ835hQg&amp;t=6m10s\">6:10</a>+1TIM5:8ABEL3SOS<a href=\"https://www.youtube.com/watch?v=rhMSQ835hQg&amp;t=2m15s\">2:15</a>CAIN<a href=\"https://www.youtube.com/watch?v=rhMSQ835hQg&amp;t=3m23s\">3:23</a>GEN9:6IMAGES<a href=\"https://www.youtube.com/watch?v=rhMSQ835hQg&amp;t=23m35s\">23:35</a>MAT<a href=\"https://www.youtube.com/watch?v=rhMSQ835hQg&amp;t=1m17s\">1:17</a>DeathSPEAKTH11:4HEB<a href=\"https://www.youtube.com/watch?v=rhMSQ835hQg&amp;t=10m39s\">10:39</a>SOUL<a href=\"https://www.youtube.com/watch?v=rhMSQ835hQg&amp;t=5m12s\">5:12</a>HEB<a href=\"https://www.youtube.com/watch?v=rhMSQ835hQg&amp;t=1m13s\">1:13</a>FootstoolAnytimeStabEveryOneANYWHERE<a href=\"https://www.youtube.com/watch?v=rhMSQ835hQg&amp;t=4m12s\">4:12</a>HEB10:7BookVolumeScorpionStingTavZealSealOfGodInFOREHEAD9:3+REV9:11AbaddonApollyponVICTORY25:8ISA<a href=\"https://www.youtube.com/watch?v=rhMSQ835hQg&amp;t=45m23s\">45:23</a>BowEveryKneePROCLAIM61ISA<a href=\"https://www.youtube.com/watch?v=rhMSQ835hQg&amp;t=54m16s\">54:16</a>+BloodOnTheWallMEMORIAL12:4+HOS1FamilyCRIES3:5+PRO<a href=\"https://www.youtube.com/watch?v=rhMSQ835hQg&amp;t=27m17s\">27:17</a>FRIENDS<a href=\"https://www.youtube.com/watch?v=rhMSQ835hQg&amp;t=18m24s\">18:24</a>PRO28MillionsREADING26:8LEV<a href=\"https://www.youtube.com/watch?v=rhMSQ835hQg&amp;t=26m36s\">26:36</a>SoundOfShakenLeafWillChaseYouAngelFOLLOW2UrDEATH4000PlaugeCurseKidsMIND3:4ISA<a href=\"https://www.youtube.com/watch?v=rhMSQ835hQg&amp;t=10m22s\">10:22</a>RemnantBattleAxeVOLCANOES<a href=\"https://www.youtube.com/watch?v=rhMSQ835hQg&amp;t=51m20s\">51:20</a>+JER<a href=\"https://www.youtube.com/watch?v=rhMSQ835hQg&amp;t=30m23s\">30:23</a>+WhirlWindSmartEVIL<a href=\"https://www.youtube.com/watch?v=rhMSQ835hQg&amp;t=4m22s\">4:22</a>JER<a href=\"https://www.youtube.com/watch?v=rhMSQ835hQg&amp;t=31m29s\">31:29</a>UrMouthsCursesUrSELF<a href=\"https://www.youtube.com/watch?v=rhMSQ835hQg&amp;t=17m18s\">17:18</a>JER<a href=\"https://www.youtube.com/watch?v=rhMSQ835hQg&amp;t=11m20s\">11:20</a>ReadHeartFORESEEN7:3+EZE37+<a href=\"https://www.youtube.com/watch?v=rhMSQ835hQg&amp;t=38m22s\">38:22</a>+AsteroidsRacesKillUrRapistWorldWideShophetumHebSetThingsRightRULE<a href=\"https://www.youtube.com/watch?v=rhMSQ835hQg&amp;t=19m20s\">19:20</a>JUD7:6SpiritualStrenghALMightGOD300ELShaddaiEnsampleExampleSeeAWayTHROUGH<a href=\"https://www.youtube.com/watch?v=rhMSQ835hQg&amp;t=10m11s\">10:11</a>+1COR11ChirstHeadCoverNephilimCainExpatooUnlearnedFuturePastFiresCalculatedFLOODS<a href=\"https://www.youtube.com/watch?v=rhMSQ835hQg&amp;t=19m24s\">19:24</a>GEN<a href=\"https://www.youtube.com/watch?v=rhMSQ835hQg&amp;t=6h9m14s\">6:9:14</a>RainbowFloodsNephilimVoidTOHUW<a href=\"https://www.youtube.com/watch?v=rhMSQ835hQg&amp;t=4m23s\">4:23</a>+JER52BabylonFigTREE21LUKE<a href=\"https://www.youtube.com/watch?v=rhMSQ835hQg&amp;t=9m48s\">9:48</a>RecieveInMyNameRecievedMeWickedNeverGetAHEAD37:7+PS40AllLauguagesSayWeWillGoWithU4WeHaveHeardGodIsWithU<a href=\"https://www.youtube.com/watch?v=rhMSQ835hQg&amp;t=8m23s\">8:23</a>ZECH13REMNANT<a href=\"https://www.youtube.com/watch?v=rhMSQ835hQg&amp;t=10m22s\">10:22</a>ISA25:8TearsBloodAllPROPHETS<a href=\"https://www.youtube.com/watch?v=rhMSQ835hQg&amp;t=11m50s\">11:50</a>+LUKE12:9+BeReadyUNeverREAD<a href=\"https://www.youtube.com/watch?v=rhMSQ835hQg&amp;t=10m26s\">10:26</a>+LUKE10:19SpiritualWEAPON5:7+1JOHN<a href=\"https://www.youtube.com/watch?v=rhMSQ835hQg&amp;t=2m18s\">2:18</a>+AntiChirstWhoresFIGS<a href=\"https://www.youtube.com/watch?v=rhMSQ835hQg&amp;t=11m13s\">11:13</a>MARK13:23ToldAllThingsNOTES2SisterCalledU65:24ISA<a href=\"https://www.youtube.com/watch?v=rhMSQ835hQg&amp;t=37m29s\">37:29</a>BackWayUCameVENGENCE<a href=\"https://www.youtube.com/watch?v=rhMSQ835hQg&amp;t=21m22s\">21:22</a>LUKE10:18SatanLIGHTNING2:4+2THES3:9AgreeingSIN<a href=\"https://www.youtube.com/watch?v=rhMSQ835hQg&amp;t=3m29s\">3:29</a>MARK13:14OughtNOT12:4REV<a href=\"https://www.youtube.com/watch?v=rhMSQ835hQg&amp;t=13m13s\">13:13</a>SnapFingerLightingHe&#39;sThereEarthTrembleSHAKE<a href=\"https://www.youtube.com/watch?v=rhMSQ835hQg&amp;t=14m16s\">14:16</a>ISA<a href=\"https://www.youtube.com/watch?v=rhMSQ835hQg&amp;t=29m13s\">29:13</a>DelusionsEnterPEACEFULLY<a href=\"https://www.youtube.com/watch?v=rhMSQ835hQg&amp;t=11m24s\">11:24</a>DAN<a href=\"https://www.youtube.com/watch?v=rhMSQ835hQg&amp;t=2m47s\">2:47</a>AntiChirstTypeYouKillEverybodyAnyWayDoAnythingToHimButKillJobSATAN1/37JOB38BattleChariotLordsAnswersJobWhoIsThisDarkenethCounselWithoutKnowledgeSatanSENT3GUYS36ChaptersEducatedIdiotsEndLIVED2DAUGHTERS210DoublePortionLIFE20:6REV21:8SURVIVAL<a href=\"https://www.youtube.com/watch?v=rhMSQ835hQg&amp;t=42m15s\">42:15</a>JOB<a href=\"https://www.youtube.com/watch?v=rhMSQ835hQg&amp;t=1m21s\">1:21</a>NakedCameReturnSpokenIT<a href=\"https://www.youtube.com/watch?v=rhMSQ835hQg&amp;t=5m15s\">5:15</a>+EZE6:7+SlainSPOILERS<a href=\"https://www.youtube.com/watch?v=rhMSQ835hQg&amp;t=51m48s\">51:48</a>JER<a href=\"https://www.youtube.com/watch?v=rhMSQ835hQg&amp;t=28m10s\">28:10</a>+YokeCovenantBrokeCAPTIVE70YEARS3PrincessKingJAMES<a href=\"https://www.youtube.com/watch?v=rhMSQ835hQg&amp;t=41m10s\">41:10</a>JER18:6ClayASHESFromWithinSatansDEATH<a href=\"https://www.youtube.com/watch?v=rhMSQ835hQg&amp;t=28m18s\">28:18</a>+EZE35:6AsILIVE<a href=\"https://www.youtube.com/watch?v=rhMSQ835hQg&amp;t=21m15s\">21:15</a>LUKE9ForetellsRoyalPRIESTHOOD2:9_1PET<a href=\"https://www.youtube.com/watch?v=rhMSQ835hQg&amp;t=4m17s\">4:17</a>TeachersJudgeFirstWATCHMAN<a href=\"https://www.youtube.com/watch?v=rhMSQ835hQg&amp;t=3m17s\">3:17</a>+EZE<a href=\"https://www.youtube.com/watch?v=rhMSQ835hQg&amp;t=13m20s\">13:20</a>+HuntTheSoulMakeThemFlyCOWARD2SatanAsChirstInPeaceComesFIRST666TrumpVileSEAL<a href=\"https://www.youtube.com/watch?v=rhMSQ835hQg&amp;t=8m25s\">8:25</a>+DAN12:2AwakeCalled1:9+2TIM<a href=\"https://www.youtube.com/watch?v=rhMSQ835hQg&amp;t=2m10s\">2:10</a>DevilElectDidntFAIL1:5JER27:8CHOSSEN1:4EPH3:2MysteryKataboOverThrowFirstEarthAGE3+2PET1:9FoundationOfWORLD<a href=\"https://www.youtube.com/watch?v=rhMSQ835hQg&amp;t=13m35s\">13:35</a>MAT<a href=\"https://www.youtube.com/watch?v=rhMSQ835hQg&amp;t=24m40s\">24:40</a>NotTakenByAntiChirstTestBodiesDONE<a href=\"https://www.youtube.com/watch?v=rhMSQ835hQg&amp;t=5m15s\">5:15</a>ECC12:7SpiritWithGodDogSowMIR<a href=\"https://www.youtube.com/watch?v=rhMSQ835hQg&amp;t=2m22s\">2:22</a>+2PET1ElectKnowChronologicalOrderOfEventsWORKS<a href=\"https://www.youtube.com/watch?v=rhMSQ835hQg&amp;t=5m11s\">5:11</a>EPH<a href=\"https://www.youtube.com/watch?v=rhMSQ835hQg&amp;t=6m10s\">6:10</a>+ShieldOfFaithNotUnfaithfulWithChildisBlessingHaveBabyItsSpiritaullyHolySeducedPregnantInMindSpiritualWithChildUnfaithDeceivedSatanMolostedAdamSinFirstGayRepentedExpattooUnlearnedWhoringDoingAntiChirstWorkRaptureToSatan6thTrumpThereAreWithChildWhenRealChirstComesHomeWhoInBedWhoringThereThinkingitsCHIRST95%worldItsAntiCHIRST<a href=\"https://www.youtube.com/watch?v=rhMSQ835hQg&amp;t=13m17s\">13:17</a>MARK15:38VeilTempleTopBottemKNOWLEDGE4:6HOS6:6_3LoveKnowledgeNotMoneyScamsMultiBILLION4HiddenDYNASTIES1thPOLITICAL2thECONOMIC3thEDUCATION4thRELIGIONSHornsMeanPOWER<a href=\"https://www.youtube.com/watch?v=rhMSQ835hQg&amp;t=1m18s\">1:18</a>ZECH5SymbolicalRollSignsUnlearnedFlyAwayBridesAntiChirstWhores666thTSV4:6+1THES<a href=\"https://www.youtube.com/watch?v=rhMSQ835hQg&amp;t=5m23s\">5:23</a>RealCHIRST7thTrumpVirginsBridesOfChirstStandsAgainstSATAN<a href=\"https://www.youtube.com/watch?v=rhMSQ835hQg&amp;t=2m15s\">2:15</a>+1THES1:5PowerENDURE1:4+2THES2:7TRADITIONS3:6+2THES2:2SATAN6TRUMP7thJESUS8thEndEarth<a href=\"https://www.youtube.com/watch?v=rhMSQ835hQg&amp;t=4m13s\">4:13</a>+1THES5:4+LearnPROPHECY47ISA29PotterKeyCHOOSEN<a href=\"https://www.youtube.com/watch?v=rhMSQ835hQg&amp;t=43m10s\">43:10</a>ISA65:9INHERIT2JOHN+AquilaPRISCILLA18ACT<a href=\"https://www.youtube.com/watch?v=rhMSQ835hQg&amp;t=1m18s\">1:18</a>JudasDeathHadHelpCutThroatDownStomachMessingWrongPeopleDISOBEDIENT10LEV<a href=\"https://www.youtube.com/watch?v=rhMSQ835hQg&amp;t=19m28s\">19:28</a>ShalNotWorshipDeadCutTATOO16:6JER<a href=\"https://www.youtube.com/watch?v=rhMSQ835hQg&amp;t=8m14s\">8:14</a>GallPoppyJuiceHeroinWINE<a href=\"https://www.youtube.com/watch?v=rhMSQ835hQg&amp;t=5m23s\">5:23</a>+1TIM4:3FoodLAWS11LEV<a href=\"https://www.youtube.com/watch?v=rhMSQ835hQg&amp;t=26m21s\">26:21</a>IfYeWalkCONTRARY<a href=\"https://www.youtube.com/watch?v=rhMSQ835hQg&amp;t=6m12s\">6:12</a>+JUD8:4_31GideonAntiChirstTYPE9:8+JUD19+20+21+SetThingsRightToRules(MeaningOF<a href=\"https://www.youtube.com/watch?v=rhMSQ835hQg&amp;t=4m21s\">4:21</a>JUD5RapeToDeathLawSTATUTES<a href=\"https://www.youtube.com/watch?v=rhMSQ835hQg&amp;t=17m19s\">17:19</a>DEU<a href=\"https://www.youtube.com/watch?v=rhMSQ835hQg&amp;t=22m25s\">22:25</a>ForceRapeJUDAS41:9PS84CourtsRapistChildmoslerPublicDeathJotTITTLE<a href=\"https://www.youtube.com/watch?v=rhMSQ835hQg&amp;t=5m18s\">5:18</a>MAT<a href=\"https://www.youtube.com/watch?v=rhMSQ835hQg&amp;t=16m18s\">16:18</a>UponThisRockChirstProphecyMELCHIZEDEK110PS119SpiritPURE<a href=\"https://www.youtube.com/watch?v=rhMSQ835hQg&amp;t=1m15s\">1:15</a>TIT<a href=\"https://www.youtube.com/watch?v=rhMSQ835hQg&amp;t=2m14s\">2:14</a>PurifyCLOTHS<a href=\"https://www.youtube.com/watch?v=rhMSQ835hQg&amp;t=3m17s\">3:17</a>REV14:13GoodWORKS19:7+REV21TEACHING1:9JUDE1:6SIGNS<a href=\"https://www.youtube.com/watch?v=rhMSQ835hQg&amp;t=12m38s\">12:38</a>+MAT7:7+VeryELECT<a href=\"https://www.youtube.com/watch?v=rhMSQ835hQg&amp;t=24m24s\">24:24</a>+MAT<a href=\"https://www.youtube.com/watch?v=rhMSQ835hQg&amp;t=11m25s\">11:25</a>+REVEALED2+2TIM<a href=\"https://www.youtube.com/watch?v=rhMSQ835hQg&amp;t=3m16s\">3:16</a>INSTRUCTION<a href=\"https://www.youtube.com/watch?v=rhMSQ835hQg&amp;t=5m23s\">5:23</a>+1TIM6:7TEST<a href=\"https://www.youtube.com/watch?v=rhMSQ835hQg&amp;t=3m13s\">3:13</a>+1COR4:2+KNOWS6:8+MAT5:3+FortoldSUSTAINED<a href=\"https://www.youtube.com/watch?v=rhMSQ835hQg&amp;t=4m14s\">4:14</a>JOHN6:27+SPIRITUAL<a href=\"https://www.youtube.com/watch?v=rhMSQ835hQg&amp;t=22m37s\">22:37</a>LUKE21:11FAMINES<a href=\"https://www.youtube.com/watch?v=rhMSQ835hQg&amp;t=8m11s\">8:11</a>AMOS3:7SecretsDryGroundGodArkPOWER<a href=\"https://www.youtube.com/watch?v=rhMSQ835hQg&amp;t=3m17s\">3:17</a>JOSH<a href=\"https://www.youtube.com/watch?v=rhMSQ835hQg&amp;t=4m18s\">4:18</a>SolesFeetDryLandEventsCHALLENGES18+2KING2:7+ComeBackReadElijahElishaSmoteThe(Water)TimeTravelGetThisDoneReadEZEKIELchapter1WholeThingGetInRiver(Water)River(Chebar)meansHebrew(LENGTHofTIME)WatchEveryBodyNextToYouForFullMoonsRevealerSECRETS<a href=\"https://www.youtube.com/watch?v=rhMSQ835hQg&amp;t=2m47s\">2:47</a>+DAN<a href=\"https://www.youtube.com/watch?v=rhMSQ835hQg&amp;t=4m33s\">4:33</a>+DanielWatchHIM7YearsBabelonKingsLycanthropyWerewolvesWantsBackHisEmpireSatyrScreechVAMPIRES<a href=\"https://www.youtube.com/watch?v=rhMSQ835hQg&amp;t=34m14s\">34:14</a>ISA13LILITHOwlsRiseDead<a href=\"https://www.youtube.com/watch?v=rhMSQ835hQg&amp;t=12m25s\">12:25</a>MARK10:27AllPossibleAngelOperationJUSTIFIEDTH<a href=\"https://www.youtube.com/watch?v=rhMSQ835hQg&amp;t=8m19s\">8:19</a>+ROM11:8StudyRibsHelixDNACURVE<a href=\"https://www.youtube.com/watch?v=rhMSQ835hQg&amp;t=2m21s\">2:21</a>GENESIS3:3TouchMeansSexWorldsMutationsHybridsGogsMagogsFuBillGates12:2ROM13:1OrdainGeneration71PS119:99MoreUnderstanding1000YrsTeachMILLENNIUM20REV<a href=\"https://www.youtube.com/watch?v=rhMSQ835hQg&amp;t=12m15s\">12:15</a>FloodLIES1:2_1PET5:8DestroyBodySOUL<a href=\"https://www.youtube.com/watch?v=rhMSQ835hQg&amp;t=10m28s\">10:28</a>MAT<a href=\"https://www.youtube.com/watch?v=rhMSQ835hQg&amp;t=19m26s\">19:26</a>AllThingsArePOSSIBLE4:9_1COR12:4+GiftsManyMemberBodyCHOOSEN2:9+1PET<a href=\"https://www.youtube.com/watch?v=rhMSQ835hQg&amp;t=3m12s\">3:12</a>EyesEarsPrayersLordAgainstEvilWARFARE10+2COR12:9GodStrongestWhenWeAreWeakestWeDoAllWeCanTurnItOverGodStrengthUnlimitedRichInFAITH2:5JAME1DontLetChangeSpecailPerson23Ps22Prophecies1000Years<a href=\"https://www.youtube.com/watch?v=rhMSQ835hQg&amp;t=15m34s\">15:34</a>Mark15:24FILLEDDIMENSIONS<a href=\"https://www.youtube.com/watch?v=rhMSQ835hQg&amp;t=20m26s\">20:26</a>JOHN13:18JUDAS41:9PS69:21GailPOPPY<a href=\"https://www.youtube.com/watch?v=rhMSQ835hQg&amp;t=27m34s\">27:34</a>_48MAT<a href=\"https://www.youtube.com/watch?v=rhMSQ835hQg&amp;t=13m35s\">13:35</a>PARABLES78:2PS135SEX18:8+LEV<a href=\"https://www.youtube.com/watch?v=rhMSQ835hQg&amp;t=20m11s\">20:11</a>SEX<a href=\"https://www.youtube.com/watch?v=rhMSQ835hQg&amp;t=9m23s\">9:23</a>GEN<a href=\"https://www.youtube.com/watch?v=rhMSQ835hQg&amp;t=3m15s\">3:15</a>+CherubimSPIRIT+5GAL6+MockedSaltEARTH<a href=\"https://www.youtube.com/watch?v=rhMSQ835hQg&amp;t=5m13s\">5:13</a>MAT11:7ConceringJohnWilderness40:3ISA66WorldBelieveThisWayThatWayReedInWindDecievedMANIFEST3JOHN<a href=\"https://www.youtube.com/watch?v=rhMSQ835hQg&amp;t=8m56s\">8:56</a>JESUS<a href=\"https://www.youtube.com/watch?v=rhMSQ835hQg&amp;t=14m18s\">14:18</a>Gen2:9CHIRST7HEB<a href=\"https://www.youtube.com/watch?v=rhMSQ835hQg&amp;t=2m14s\">2:14</a>FORFILL42ISA<a href=\"https://www.youtube.com/watch?v=rhMSQ835hQg&amp;t=30m30s\">30:30</a>PestilencGreatHailStonesFireBrimstoneWorldMyPEOPLE<a href=\"https://www.youtube.com/watch?v=rhMSQ835hQg&amp;t=11m19s\">11:19</a>+EZE22SlagSilverTruthMyFuryComsumeIT4JAME<a href=\"https://www.youtube.com/watch?v=rhMSQ835hQg&amp;t=5m17s\">5:17</a>+PrayNotRainPrayedRainEarthWhiteHORSE6REV<a href=\"https://www.youtube.com/watch?v=rhMSQ835hQg&amp;t=19m11s\">19:11</a>+RealChirstDecievedMarkForeheadWorkInHandTheMindNEPHILIM6:7GEN3:3_17ExpatooBeguiledTouchSexHebrewNawgahSpiritualImpregnatedHolySeducesInMindsDECIEVED95%WorldUnlearnedTemple<a href=\"https://www.youtube.com/watch?v=rhMSQ835hQg&amp;t=6m16s\">6:16</a>+2COR9:4WarfareInfiltratorREDEEMED10ZECH13:9RefineSilverDestoryPERVERSION6:5GEN<a href=\"https://www.youtube.com/watch?v=rhMSQ835hQg&amp;t=2m17s\">2:17</a>TRESS31:8+EZE<a href=\"https://www.youtube.com/watch?v=rhMSQ835hQg&amp;t=28m13s\">28:13</a>EvilGOOD14:8HOS6:6DELUSIONS66:4+ISA61:3TreePEOPLE<a href=\"https://www.youtube.com/watch?v=rhMSQ835hQg&amp;t=8m24s\">8:24</a>MARK14:72DenyUSelfTodayChasesVIRGIN11:2+2COR12:9SatanDiguisedBeguiledEveAdamLuciferTraslationMorningStarMaleAtSunRiseFemaleAtSunSetPREVERT<a href=\"https://www.youtube.com/watch?v=rhMSQ835hQg&amp;t=14m12s\">14:12</a>iSA65:4+SwineSmokeAshesGoneHOMOSEXUALITY<a href=\"https://www.youtube.com/watch?v=rhMSQ835hQg&amp;t=1m27s\">1:27</a>ROM<a href=\"https://www.youtube.com/watch?v=rhMSQ835hQg&amp;t=7m18s\">7:18</a>FleshDwellethCATABO12:4REV10:7+SolarSystemMomentosGravitationalsEclipsingPlanetsRETROGRADES3FullMOONS30daysEVERY50DayCrosticsSpringEQUIOX20TH15DayCountChirstBecameRPASSOVER5:7+1COR13CharityAPIRL1FoolsHaveHolidaySTEPHEN7ACTS2PENTECOST50dayAfterChirstDefeatedDEATH1RUTH4MOABITE23:3DEU25:5DUTY<a href=\"https://www.youtube.com/watch?v=rhMSQ835hQg&amp;t=2m25s\">2:25</a>JOHN8:56ABRAM<a href=\"https://www.youtube.com/watch?v=rhMSQ835hQg&amp;t=15m13s\">15:13</a>GEN<a href=\"https://www.youtube.com/watch?v=rhMSQ835hQg&amp;t=14m18s\">14:18</a>MELCHISEDEC7HEB<a href=\"https://www.youtube.com/watch?v=rhMSQ835hQg&amp;t=2m14s\">2:14</a>SummerSolsticeJUNE21TemporalPSYCHOSIS20thRelativityVisionsElectOfGOD<a href=\"https://www.youtube.com/watch?v=rhMSQ835hQg&amp;t=2m28s\">2:28</a>JOEL<a href=\"https://www.youtube.com/watch?v=rhMSQ835hQg&amp;t=3m15s\">3:15</a>PerfectDayNoPremeditatedANYTHING2ACTS<a href=\"https://www.youtube.com/watch?v=rhMSQ835hQg&amp;t=9m15s\">9:15</a>ChoosenVessalPUT2WORDS5%SayInSpirit95%TRUST4:6+1THES5:3SignOfTimeWorldsSpiritualLaborPainsCOURTS116PS<a href=\"https://www.youtube.com/watch?v=rhMSQ835hQg&amp;t=51m10s\">51:10</a>_12SingReadCleanHeartVictorySongOfMOSE32DEU7:6SpecialMESSENGER<a href=\"https://www.youtube.com/watch?v=rhMSQ835hQg&amp;t=7m22s\">7:22</a>LUKE1:17ELIAS3MALA4:5ELIJAH8MIRACLES2_1KINGS17:1_17:4_<a href=\"https://www.youtube.com/watch?v=rhMSQ835hQg&amp;t=17m22s\">17:22</a>_23_<a href=\"https://www.youtube.com/watch?v=rhMSQ835hQg&amp;t=18m38s\">18:38</a>_<a href=\"https://www.youtube.com/watch?v=rhMSQ835hQg&amp;t=18m45s\">18:45</a>_2#<a href=\"https://www.youtube.com/watch?v=rhMSQ835hQg&amp;t=1m10s\">1:10</a>_<a href=\"https://www.youtube.com/watch?v=rhMSQ835hQg&amp;t=1m12s\">1:12</a>_2:8ELISHAS16MIRACLES2KINGS<a href=\"https://www.youtube.com/watch?v=rhMSQ835hQg&amp;t=2m14s\">2:14</a>_<a href=\"https://www.youtube.com/watch?v=rhMSQ835hQg&amp;t=2m21s\">2:21</a>_<a href=\"https://www.youtube.com/watch?v=rhMSQ835hQg&amp;t=2m24s\">2:24</a>_<a href=\"https://www.youtube.com/watch?v=rhMSQ835hQg&amp;t=3m20s\">3:20</a>_4:1_6_<a href=\"https://www.youtube.com/watch?v=rhMSQ835hQg&amp;t=4m16s\">4:16</a>_17_<a href=\"https://www.youtube.com/watch?v=rhMSQ835hQg&amp;t=4m35s\">4:35</a>_<a href=\"https://www.youtube.com/watch?v=rhMSQ835hQg&amp;t=4m41s\">4:41</a>_<a href=\"https://www.youtube.com/watch?v=rhMSQ835hQg&amp;t=4m43s\">4:43</a>_<a href=\"https://www.youtube.com/watch?v=rhMSQ835hQg&amp;t=5m10s\">5:10</a>_<a href=\"https://www.youtube.com/watch?v=rhMSQ835hQg&amp;t=5m27s\">5:27</a>_6:6_<a href=\"https://www.youtube.com/watch?v=rhMSQ835hQg&amp;t=6m17s\">6:17</a>_<a href=\"https://www.youtube.com/watch?v=rhMSQ835hQg&amp;t=6m18s\">6:18</a>_<a href=\"https://www.youtube.com/watch?v=rhMSQ835hQg&amp;t=6m20s\">6:20</a>_<a href=\"https://www.youtube.com/watch?v=rhMSQ835hQg&amp;t=13m21s\">13:21</a>MiraclesProphetsAVENGED<a href=\"https://www.youtube.com/watch?v=rhMSQ835hQg&amp;t=18m20s\">18:20</a>REV11:5MOSES2OliveWitnessProphecyShutHeavenFireMouthELIJAH<a href=\"https://www.youtube.com/watch?v=rhMSQ835hQg&amp;t=32m39s\">32:39</a>DEU33:8ThumURIM6REV10:7+StoicheioLittleBookEatItREVEALED40ISA6:2_8SeraphimsIAMThatIAmHebEveryIsayEhyehAsherEhyehHereIAmSendMeMysteryRollBitterSWEET3EZE9DestroyingWeaponInHandCherubTavKillFallAngelsMeteorSwordsJediEveryGodLordYellELOHIMOccures2700TimesHelpHimMovedThemUseTheFORCE<a href=\"https://www.youtube.com/watch?v=rhMSQ835hQg&amp;t=18m31s\">18:31</a>+2CHRON3:2DomeOfTheRockDEVILChristSitTempleMountJERUSALEM4000YearYerushalayimSpiritaulHomeLandOfYehhovawPeopleAbrahmicRelgionsForeFatherJudaismIsaacTorahChristianityIshamaelQaranIslamMuslimAllahBARAKA1611CathloicExcommunicatedPhariseesScibes23:2MAT<a href=\"https://www.youtube.com/watch?v=rhMSQ835hQg&amp;t=5m20s\">5:20</a>SAY<a href=\"https://www.youtube.com/watch?v=rhMSQ835hQg&amp;t=26m28s\">26:28</a>PRO8WisdomStackPaperWorkMilitaryPimpRapiestMolestersMinEnterJailGrnLigtWWJesusYehowshuwaJehodhuaChristianChirstianosChristoOilOfRPeopleAnointedOneBeGottenSonYahovawSaviorElShaddaiGodAlimightElyonElMostHighGodYehovawElohimLordGodAdoniaYehovawMostHighElyonAlmightyShaddaiLORDAdominLordOwerAdonaiBlesserAdonOverLordTheLordJAHLordYehovawGodEloahGodELJehovahNoJYehhovawJirehProvidesYehovawRophekaHealTheeYehhovawMekaddishkemSanctifyUYehhovawShalomPeaceYehhovawZebaothHostJehhovawZidenuOurRighteousnessYehhovawShammahLordIsThereYehhovawRoiMySHEPHERD<a href=\"https://www.youtube.com/watch?v=rhMSQ835hQg&amp;t=7m20s\">7:20</a>MIC5REMNANT2:4MIC1:8TYPE2NAH3FORETOLD2ZEPH1:7DAYS1:5HAB2:4FAITH6MIC4TEMPLE1:8HAG2:6+2bINHABITED<a href=\"https://www.youtube.com/watch?v=rhMSQ835hQg&amp;t=45m18s\">45:18</a>ISA<a href=\"https://www.youtube.com/watch?v=rhMSQ835hQg&amp;t=43m26s\">43:26</a>JustifiedClaimPROMISE3MIC<a href=\"https://www.youtube.com/watch?v=rhMSQ835hQg&amp;t=4m13s\">4:13</a>MANIFESTED<a href=\"https://www.youtube.com/watch?v=rhMSQ835hQg&amp;t=4m22s\">4:22</a>MARK9:23WORD<a href=\"https://www.youtube.com/watch?v=rhMSQ835hQg&amp;t=10m12s\">10:12</a>DAN<a href=\"https://www.youtube.com/watch?v=rhMSQ835hQg&amp;t=3m29s\">3:29</a>DECREE100$BibleBullingerHebMASSORETIC1820RAPTURELie10$IncredibleCoverUPZincSavesCellWombCovidAirBornHIVPoisonIvyContactimmuneBORN<a href=\"https://m.youtube.com/watch?v=Dn8vzTsnPpsm\">https://m.youtube.com/watch?v=Dn8vzTsnPpsm</a>\n",
            "The length of the longest message: 24571\n"
          ]
        }
      ]
    },
    {
      "cell_type": "code",
      "source": [
        "#To detect url\n",
        "url_pattern = r'http[s]?://(?:[a-zA-Z]|[0-9]|[$-_@.&+]|[!*\\(\\),]|(?:%[0-9a-fA-F][0-9a-fA-F]))+';\n",
        "\n",
        "# Using str.contains() to create a boolean mask indicating which comments contain URLs\n",
        "has_url = df['Comment (Displayed)'].str.contains(url_pattern)\n",
        "\n",
        "# Filter the data frame to keep only comments that contain URLs\n",
        "comments_with_url = df[has_url]\n",
        "\n",
        "# Print the comments with URLs\n",
        "print(comments_with_url['Comment (Displayed)'])"
      ],
      "metadata": {
        "colab": {
          "base_uri": "https://localhost:8080/"
        },
        "id": "NP8i8uwXAqFu",
        "outputId": "3bc225da-f993-4b43-a59e-f75ff3f9a40d"
      },
      "execution_count": null,
      "outputs": [
        {
          "output_type": "stream",
          "name": "stdout",
          "text": [
            "211       These should be interesting….<br><a href=\"http...\n",
            "292       I just learnt &#39;paternalistic&#39; at <a hr...\n",
            "340       <a href=\"https://www.youtube.com/watch?v=USmu0...\n",
            "387       <a href=\"https://www.youtube.com/watch?v=USmu0...\n",
            "539       <a href=\"https://www.youtube.com/watch?v=USmu0...\n",
            "                                ...                        \n",
            "378983    no such things as black holes, neutron stars, ...\n",
            "379000    where did you get the picture for <a href=\"htt...\n",
            "379035    <a href=\"http://www.youtube.com/watch?v=xyXpQx...\n",
            "379055    <a href=\"http://www.youtube.com/watch?v=xyXpQx...\n",
            "379071    <a href=\"http://www.youtube.com/watch?v=xyXpQx...\n",
            "Name: Comment (Displayed), Length: 17123, dtype: object\n"
          ]
        }
      ]
    },
    {
      "cell_type": "markdown",
      "source": [
        "***Number of comments per author***"
      ],
      "metadata": {
        "id": "KgrzxSic-shM"
      }
    },
    {
      "cell_type": "code",
      "source": [
        "from sklearn.cluster import KMeans\n",
        "import matplotlib.pyplot as plt\n",
        "\n",
        "comments2=df[\"Comment (Displayed)\"];\n",
        "cleaned_text2=[clean_text(text) for text in comments2]\n",
        "vectorizer2 = TfidfVectorizer(stop_words='english')\n",
        "tfidf_matrix2 = vectorizer2.fit_transform(cleaned_text2)\n",
        "\n",
        "df2 = df;\n",
        "km = KMeans(n_clusters=3);\n",
        "km.fit(tfidf_matrix2);\n",
        "\n",
        "# Assign the cluster labels to the comments\n",
        "\n",
        "df2['cluster'] = km.labels_\n",
        "\n",
        "# Plot a histogram of the number of comments per author\n",
        "\n",
        "df2['Comment Author'].value_counts().hist(bins=20)\n",
        "plt.title('Histogram of number of comments per author')\n",
        "plt.xlabel('Number of comments')\n",
        "plt.ylabel('Number of authors')\n",
        "plt.show()\n",
        "\n",
        "# Print the authors in each cluster\n",
        "for i in range(3):\n",
        "    print(f'Cluster {i}:')\n",
        "    print(df2[df2['cluster'] == i]['Comment Author'].unique())"
      ],
      "metadata": {
        "colab": {
          "base_uri": "https://localhost:8080/",
          "height": 683
        },
        "id": "04BW2SblwIR9",
        "outputId": "fc2d37ca-853b-42ee-8205-872980dfa640"
      },
      "execution_count": null,
      "outputs": [
        {
          "output_type": "stream",
          "name": "stderr",
          "text": [
            "/usr/local/lib/python3.9/dist-packages/sklearn/cluster/_kmeans.py:870: FutureWarning: The default value of `n_init` will change from 10 to 'auto' in 1.4. Set the value of `n_init` explicitly to suppress the warning\n",
            "  warnings.warn(\n"
          ]
        },
        {
          "output_type": "display_data",
          "data": {
            "text/plain": [
              "<Figure size 640x480 with 1 Axes>"
            ],
            "image/png": "[encoded data removed]"
          },
          "metadata": {}
        },
        {
          "output_type": "stream",
          "name": "stdout",
          "text": [
            "Cluster 0:\n",
            "['Christopher Vinovich' 'Askia mumine' 'dArk lord' ... 'Arjun Sinha'\n",
            " 'shaheed goni' 'Sha Kur']\n",
            "Cluster 1:\n",
            "['Ciri' 'Daniel Harper' 'Szilárd Oberritter' ... 'Kevin Dahl-Skog' 'Maeve'\n",
            " 'Jesus Christ']\n",
            "Cluster 2:\n",
            "['Bagus Hutomo' 'CMZ neu' 'Kiana Marrie ' ... 'Trion' 'The Slingshot King'\n",
            " '314Show']\n"
          ]
        }
      ]
    },
    {
      "cell_type": "markdown",
      "source": [
        "***Heatmap***"
      ],
      "metadata": {
        "id": "EfQZXSyoy5tD"
      }
    },
    {
      "cell_type": "code",
      "execution_count": null,
      "metadata": {
        "id": "SytiEN3sXuUZ",
        "colab": {
          "base_uri": "https://localhost:8080/",
          "height": 345
        },
        "outputId": "32a6458d-366f-47b6-8ba1-bba47e8df58f"
      },
      "outputs": [
        {
          "output_type": "error",
          "ename": "KeyboardInterrupt",
          "evalue": "ignored",
          "traceback": [
            "\u001b[0;31m---------------------------------------------------------------------------\u001b[0m",
            "\u001b[0;31mKeyboardInterrupt\u001b[0m                         Traceback (most recent call last)",
            "\u001b[0;32m<ipython-input-20-a69255c455d1>\u001b[0m in \u001b[0;36m<cell line: 4>\u001b[0;34m()\u001b[0m\n\u001b[1;32m      2\u001b[0m \u001b[0mtfidf_df\u001b[0m \u001b[0;34m=\u001b[0m \u001b[0mpd\u001b[0m\u001b[0;34m.\u001b[0m\u001b[0mDataFrame\u001b[0m\u001b[0;34m(\u001b[0m\u001b[0mtfidf_matrix\u001b[0m\u001b[0;34m.\u001b[0m\u001b[0mtoarray\u001b[0m\u001b[0;34m(\u001b[0m\u001b[0;34m)\u001b[0m\u001b[0;34m,\u001b[0m \u001b[0mcolumns\u001b[0m\u001b[0;34m=\u001b[0m\u001b[0mvectorizer\u001b[0m\u001b[0;34m.\u001b[0m\u001b[0mvocabulary_\u001b[0m\u001b[0;34m)\u001b[0m\u001b[0;34m\u001b[0m\u001b[0;34m\u001b[0m\u001b[0m\n\u001b[1;32m      3\u001b[0m \u001b[0mf\u001b[0m\u001b[0;34m\u001b[0m\u001b[0;34m\u001b[0m\u001b[0m\n\u001b[0;32m----> 4\u001b[0;31m \u001b[0msns\u001b[0m\u001b[0;34m.\u001b[0m\u001b[0mheatmap\u001b[0m\u001b[0;34m(\u001b[0m\u001b[0mtfidf_df\u001b[0m\u001b[0;34m)\u001b[0m\u001b[0;34m\u001b[0m\u001b[0;34m\u001b[0m\u001b[0m\n\u001b[0m",
            "\u001b[0;32m/usr/local/lib/python3.9/dist-packages/seaborn/matrix.py\u001b[0m in \u001b[0;36mheatmap\u001b[0;34m(data, vmin, vmax, cmap, center, robust, annot, fmt, annot_kws, linewidths, linecolor, cbar, cbar_kws, cbar_ax, square, xticklabels, yticklabels, mask, ax, **kwargs)\u001b[0m\n\u001b[1;32m    457\u001b[0m     \u001b[0;32mif\u001b[0m \u001b[0msquare\u001b[0m\u001b[0;34m:\u001b[0m\u001b[0;34m\u001b[0m\u001b[0;34m\u001b[0m\u001b[0m\n\u001b[1;32m    458\u001b[0m         \u001b[0max\u001b[0m\u001b[0;34m.\u001b[0m\u001b[0mset_aspect\u001b[0m\u001b[0;34m(\u001b[0m\u001b[0;34m\"equal\"\u001b[0m\u001b[0;34m)\u001b[0m\u001b[0;34m\u001b[0m\u001b[0;34m\u001b[0m\u001b[0m\n\u001b[0;32m--> 459\u001b[0;31m     \u001b[0mplotter\u001b[0m\u001b[0;34m.\u001b[0m\u001b[0mplot\u001b[0m\u001b[0;34m(\u001b[0m\u001b[0max\u001b[0m\u001b[0;34m,\u001b[0m \u001b[0mcbar_ax\u001b[0m\u001b[0;34m,\u001b[0m \u001b[0mkwargs\u001b[0m\u001b[0;34m)\u001b[0m\u001b[0;34m\u001b[0m\u001b[0;34m\u001b[0m\u001b[0m\n\u001b[0m\u001b[1;32m    460\u001b[0m     \u001b[0;32mreturn\u001b[0m \u001b[0max\u001b[0m\u001b[0;34m\u001b[0m\u001b[0;34m\u001b[0m\u001b[0m\n\u001b[1;32m    461\u001b[0m \u001b[0;34m\u001b[0m\u001b[0m\n",
            "\u001b[0;32m/usr/local/lib/python3.9/dist-packages/seaborn/matrix.py\u001b[0m in \u001b[0;36mplot\u001b[0;34m(self, ax, cax, kws)\u001b[0m\n\u001b[1;32m    304\u001b[0m \u001b[0;34m\u001b[0m\u001b[0m\n\u001b[1;32m    305\u001b[0m         \u001b[0;31m# Draw the heatmap\u001b[0m\u001b[0;34m\u001b[0m\u001b[0;34m\u001b[0m\u001b[0m\n\u001b[0;32m--> 306\u001b[0;31m         \u001b[0mmesh\u001b[0m \u001b[0;34m=\u001b[0m \u001b[0max\u001b[0m\u001b[0;34m.\u001b[0m\u001b[0mpcolormesh\u001b[0m\u001b[0;34m(\u001b[0m\u001b[0mself\u001b[0m\u001b[0;34m.\u001b[0m\u001b[0mplot_data\u001b[0m\u001b[0;34m,\u001b[0m \u001b[0mcmap\u001b[0m\u001b[0;34m=\u001b[0m\u001b[0mself\u001b[0m\u001b[0;34m.\u001b[0m\u001b[0mcmap\u001b[0m\u001b[0;34m,\u001b[0m \u001b[0;34m**\u001b[0m\u001b[0mkws\u001b[0m\u001b[0;34m)\u001b[0m\u001b[0;34m\u001b[0m\u001b[0;34m\u001b[0m\u001b[0m\n\u001b[0m\u001b[1;32m    307\u001b[0m \u001b[0;34m\u001b[0m\u001b[0m\n\u001b[1;32m    308\u001b[0m         \u001b[0;31m# Set the axis limits\u001b[0m\u001b[0;34m\u001b[0m\u001b[0;34m\u001b[0m\u001b[0m\n",
            "\u001b[0;32m/usr/local/lib/python3.9/dist-packages/matplotlib/__init__.py\u001b[0m in \u001b[0;36minner\u001b[0;34m(ax, data, *args, **kwargs)\u001b[0m\n\u001b[1;32m   1440\u001b[0m     \u001b[0;32mdef\u001b[0m \u001b[0minner\u001b[0m\u001b[0;34m(\u001b[0m\u001b[0max\u001b[0m\u001b[0;34m,\u001b[0m \u001b[0;34m*\u001b[0m\u001b[0margs\u001b[0m\u001b[0;34m,\u001b[0m \u001b[0mdata\u001b[0m\u001b[0;34m=\u001b[0m\u001b[0;32mNone\u001b[0m\u001b[0;34m,\u001b[0m \u001b[0;34m**\u001b[0m\u001b[0mkwargs\u001b[0m\u001b[0;34m)\u001b[0m\u001b[0;34m:\u001b[0m\u001b[0;34m\u001b[0m\u001b[0;34m\u001b[0m\u001b[0m\n\u001b[1;32m   1441\u001b[0m         \u001b[0;32mif\u001b[0m \u001b[0mdata\u001b[0m \u001b[0;32mis\u001b[0m \u001b[0;32mNone\u001b[0m\u001b[0;34m:\u001b[0m\u001b[0;34m\u001b[0m\u001b[0;34m\u001b[0m\u001b[0m\n\u001b[0;32m-> 1442\u001b[0;31m             \u001b[0;32mreturn\u001b[0m \u001b[0mfunc\u001b[0m\u001b[0;34m(\u001b[0m\u001b[0max\u001b[0m\u001b[0;34m,\u001b[0m \u001b[0;34m*\u001b[0m\u001b[0mmap\u001b[0m\u001b[0;34m(\u001b[0m\u001b[0msanitize_sequence\u001b[0m\u001b[0;34m,\u001b[0m \u001b[0margs\u001b[0m\u001b[0;34m)\u001b[0m\u001b[0;34m,\u001b[0m \u001b[0;34m**\u001b[0m\u001b[0mkwargs\u001b[0m\u001b[0;34m)\u001b[0m\u001b[0;34m\u001b[0m\u001b[0;34m\u001b[0m\u001b[0m\n\u001b[0m\u001b[1;32m   1443\u001b[0m \u001b[0;34m\u001b[0m\u001b[0m\n\u001b[1;32m   1444\u001b[0m         \u001b[0mbound\u001b[0m \u001b[0;34m=\u001b[0m \u001b[0mnew_sig\u001b[0m\u001b[0;34m.\u001b[0m\u001b[0mbind\u001b[0m\u001b[0;34m(\u001b[0m\u001b[0max\u001b[0m\u001b[0;34m,\u001b[0m \u001b[0;34m*\u001b[0m\u001b[0margs\u001b[0m\u001b[0;34m,\u001b[0m \u001b[0;34m**\u001b[0m\u001b[0mkwargs\u001b[0m\u001b[0;34m)\u001b[0m\u001b[0;34m\u001b[0m\u001b[0;34m\u001b[0m\u001b[0m\n",
            "\u001b[0;32m/usr/local/lib/python3.9/dist-packages/matplotlib/axes/_axes.py\u001b[0m in \u001b[0;36mpcolormesh\u001b[0;34m(self, alpha, norm, cmap, vmin, vmax, shading, antialiased, *args, **kwargs)\u001b[0m\n\u001b[1;32m   6246\u001b[0m         \u001b[0mself\u001b[0m\u001b[0;34m.\u001b[0m\u001b[0madd_collection\u001b[0m\u001b[0;34m(\u001b[0m\u001b[0mcollection\u001b[0m\u001b[0;34m,\u001b[0m \u001b[0mautolim\u001b[0m\u001b[0;34m=\u001b[0m\u001b[0;32mFalse\u001b[0m\u001b[0;34m)\u001b[0m\u001b[0;34m\u001b[0m\u001b[0;34m\u001b[0m\u001b[0m\n\u001b[1;32m   6247\u001b[0m \u001b[0;34m\u001b[0m\u001b[0m\n\u001b[0;32m-> 6248\u001b[0;31m         \u001b[0mminx\u001b[0m\u001b[0;34m,\u001b[0m \u001b[0mminy\u001b[0m \u001b[0;34m=\u001b[0m \u001b[0mnp\u001b[0m\u001b[0;34m.\u001b[0m\u001b[0mmin\u001b[0m\u001b[0;34m(\u001b[0m\u001b[0mcoords\u001b[0m\u001b[0;34m,\u001b[0m \u001b[0maxis\u001b[0m\u001b[0;34m=\u001b[0m\u001b[0;36m0\u001b[0m\u001b[0;34m)\u001b[0m\u001b[0;34m\u001b[0m\u001b[0;34m\u001b[0m\u001b[0m\n\u001b[0m\u001b[1;32m   6249\u001b[0m         \u001b[0mmaxx\u001b[0m\u001b[0;34m,\u001b[0m \u001b[0mmaxy\u001b[0m \u001b[0;34m=\u001b[0m \u001b[0mnp\u001b[0m\u001b[0;34m.\u001b[0m\u001b[0mmax\u001b[0m\u001b[0;34m(\u001b[0m\u001b[0mcoords\u001b[0m\u001b[0;34m,\u001b[0m \u001b[0maxis\u001b[0m\u001b[0;34m=\u001b[0m\u001b[0;36m0\u001b[0m\u001b[0;34m)\u001b[0m\u001b[0;34m\u001b[0m\u001b[0;34m\u001b[0m\u001b[0m\n\u001b[1;32m   6250\u001b[0m         \u001b[0mcollection\u001b[0m\u001b[0;34m.\u001b[0m\u001b[0msticky_edges\u001b[0m\u001b[0;34m.\u001b[0m\u001b[0mx\u001b[0m\u001b[0;34m[\u001b[0m\u001b[0;34m:\u001b[0m\u001b[0;34m]\u001b[0m \u001b[0;34m=\u001b[0m \u001b[0;34m[\u001b[0m\u001b[0mminx\u001b[0m\u001b[0;34m,\u001b[0m \u001b[0mmaxx\u001b[0m\u001b[0;34m]\u001b[0m\u001b[0;34m\u001b[0m\u001b[0;34m\u001b[0m\u001b[0m\n",
            "\u001b[0;32m/usr/local/lib/python3.9/dist-packages/numpy/core/overrides.py\u001b[0m in \u001b[0;36mamin\u001b[0;34m(*args, **kwargs)\u001b[0m\n",
            "\u001b[0;32m/usr/local/lib/python3.9/dist-packages/numpy/core/fromnumeric.py\u001b[0m in \u001b[0;36mamin\u001b[0;34m(a, axis, out, keepdims, initial, where)\u001b[0m\n\u001b[1;32m   2914\u001b[0m     \u001b[0;36m6\u001b[0m\u001b[0;34m\u001b[0m\u001b[0;34m\u001b[0m\u001b[0m\n\u001b[1;32m   2915\u001b[0m     \"\"\"\n\u001b[0;32m-> 2916\u001b[0;31m     return _wrapreduction(a, np.minimum, 'min', axis, None, out,\n\u001b[0m\u001b[1;32m   2917\u001b[0m                           keepdims=keepdims, initial=initial, where=where)\n\u001b[1;32m   2918\u001b[0m \u001b[0;34m\u001b[0m\u001b[0m\n",
            "\u001b[0;32m/usr/local/lib/python3.9/dist-packages/numpy/core/fromnumeric.py\u001b[0m in \u001b[0;36m_wrapreduction\u001b[0;34m(obj, ufunc, method, axis, dtype, out, **kwargs)\u001b[0m\n\u001b[1;32m     84\u001b[0m                 \u001b[0;32mreturn\u001b[0m \u001b[0mreduction\u001b[0m\u001b[0;34m(\u001b[0m\u001b[0maxis\u001b[0m\u001b[0;34m=\u001b[0m\u001b[0maxis\u001b[0m\u001b[0;34m,\u001b[0m \u001b[0mout\u001b[0m\u001b[0;34m=\u001b[0m\u001b[0mout\u001b[0m\u001b[0;34m,\u001b[0m \u001b[0;34m**\u001b[0m\u001b[0mpasskwargs\u001b[0m\u001b[0;34m)\u001b[0m\u001b[0;34m\u001b[0m\u001b[0;34m\u001b[0m\u001b[0m\n\u001b[1;32m     85\u001b[0m \u001b[0;34m\u001b[0m\u001b[0m\n\u001b[0;32m---> 86\u001b[0;31m     \u001b[0;32mreturn\u001b[0m \u001b[0mufunc\u001b[0m\u001b[0;34m.\u001b[0m\u001b[0mreduce\u001b[0m\u001b[0;34m(\u001b[0m\u001b[0mobj\u001b[0m\u001b[0;34m,\u001b[0m \u001b[0maxis\u001b[0m\u001b[0;34m,\u001b[0m \u001b[0mdtype\u001b[0m\u001b[0;34m,\u001b[0m \u001b[0mout\u001b[0m\u001b[0;34m,\u001b[0m \u001b[0;34m**\u001b[0m\u001b[0mpasskwargs\u001b[0m\u001b[0;34m)\u001b[0m\u001b[0;34m\u001b[0m\u001b[0;34m\u001b[0m\u001b[0m\n\u001b[0m\u001b[1;32m     87\u001b[0m \u001b[0;34m\u001b[0m\u001b[0m\n\u001b[1;32m     88\u001b[0m \u001b[0;34m\u001b[0m\u001b[0m\n",
            "\u001b[0;31mKeyboardInterrupt\u001b[0m: "
          ]
        }
      ],
      "source": [
        "import seaborn as sns\n",
        "tfidf_df = pd.DataFrame(tfidf_matrix.toarray(), columns=vectorizer.vocabulary_)\n",
        "f\n",
        "sns.heatmap(tfidf_df)"
      ]
    },
    {
      "cell_type": "markdown",
      "metadata": {
        "id": "UV0s1bB8Wkib"
      },
      "source": [
        "#***Kmeans***#\n",
        "\n",
        "\n",
        "\n"
      ]
    },
    {
      "cell_type": "code",
      "execution_count": null,
      "metadata": {
        "id": "2l7WHZbIalVs"
      },
      "outputs": [],
      "source": [
        "import warnings"
      ]
    },
    {
      "cell_type": "code",
      "execution_count": null,
      "metadata": {
        "id": "NTWuWSDIalvY"
      },
      "outputs": [],
      "source": [
        "warnings.filterwarnings(\"ignore\")"
      ]
    },
    {
      "cell_type": "code",
      "execution_count": null,
      "metadata": {
        "id": "g4ky2Y-jjkqa"
      },
      "outputs": [],
      "source": [
        "from sklearn.cluster import KMeans"
      ]
    },
    {
      "cell_type": "code",
      "execution_count": null,
      "metadata": {
        "id": "h-a7k6f5WpTJ"
      },
      "outputs": [],
      "source": [
        "from sklearn.metrics import silhouette_score\n",
        "\n",
        "silhouette_scores = []\n",
        "for n_clusters in range(2, 11):\n",
        "    kmeans = KMeans(n_clusters=n_clusters, random_state=42)\n",
        "    cluster_labels = kmeans.fit_predict(tfidf_matrix)\n",
        "    silhouette_scores.append(silhouette_score(tfidf_matrix, cluster_labels))\n",
        "\n",
        "# find the optimal number of clusters that maximizes silhouette score\n",
        "optimal_num_clusters = silhouette_scores.index(max(silhouette_scores)) + 2\n",
        "\n",
        "print(\"Optimal number of clusters:\", optimal_num_clusters)\n"
      ]
    },
    {
      "cell_type": "code",
      "execution_count": null,
      "metadata": {
        "id": "IXt8rOjWebrW"
      },
      "outputs": [],
      "source": [
        "from sklearn.cluster import KMeans\n",
        "\n",
        "# Fit K-means clustering on the TF-IDF matrix\n",
        "kmeans = KMeans(n_clusters=optimal_num_clusters, random_state=42)\n",
        "kmeans.fit(tfidf_matrix)\n",
        "\n",
        "# Get the cluster assignments for each comment\n",
        "cluster_labels = kmeans.labels_\n"
      ]
    },
    {
      "cell_type": "code",
      "execution_count": null,
      "metadata": {
        "id": "m-xlZChJg1Wi"
      },
      "outputs": [],
      "source": [
        "np.unique(cluster_labels)"
      ]
    },
    {
      "cell_type": "code",
      "execution_count": null,
      "metadata": {
        "id": "IuLhg5TBhSBx"
      },
      "outputs": [],
      "source": [
        "list(cluster_labels).count(0)"
      ]
    },
    {
      "cell_type": "code",
      "execution_count": null,
      "metadata": {
        "id": "9Q-8tu1pi0iy"
      },
      "outputs": [],
      "source": [
        "# Calculate average distance from centroid for each cluster\n",
        "avg_distances = []\n",
        "for i in range(kmeans.n_clusters):\n",
        "    mask = (cluster_labels == i)\n",
        "    centroid = kmeans.cluster_centers_[i]\n",
        "    distances = np.linalg.norm(tfidf_matrix[mask] - centroid, axis=1)\n",
        "    avg_distances.append(np.mean(distances))\n",
        "\n",
        "# Identify the cluster with the highest average distance from its centroid\n",
        "spam_cluster = np.argmax(avg_distances)\n",
        "\n",
        "# Classify comments in the spam cluster as spam, and all others as not spam\n",
        "predicted_labels = np.zeros_like(cluster_labels)\n",
        "predicted_labels[cluster_labels == spam_cluster] = 1\n"
      ]
    },
    {
      "cell_type": "code",
      "execution_count": null,
      "metadata": {
        "id": "DEuiZgOFk1fD"
      },
      "outputs": [],
      "source": [
        "np.unique(predicted_labels)"
      ]
    },
    {
      "cell_type": "code",
      "execution_count": null,
      "metadata": {
        "id": "w8muCGgvgsQ6"
      },
      "outputs": [],
      "source": [
        "np.unique(cluster_labels)"
      ]
    },
    {
      "cell_type": "code",
      "execution_count": null,
      "metadata": {
        "id": "36g1vJ85gZR6"
      },
      "outputs": [],
      "source": [
        "spam_cluster"
      ]
    },
    {
      "cell_type": "code",
      "execution_count": null,
      "metadata": {
        "id": "uCrI5ySWfvLa"
      },
      "outputs": [],
      "source": [
        "list(predicted_labels).count(1)"
      ]
    },
    {
      "cell_type": "markdown",
      "source": [
        "#***PCA***#"
      ],
      "metadata": {
        "id": "NltjlOYYI6Lu"
      }
    },
    {
      "cell_type": "code",
      "source": [],
      "metadata": {
        "id": "0rV0DPofJteM"
      },
      "execution_count": null,
      "outputs": []
    },
    {
      "cell_type": "markdown",
      "source": [
        "#***Kmeans after PCA***#"
      ],
      "metadata": {
        "id": "b5KUtpjvH8Gq"
      }
    },
    {
      "cell_type": "code",
      "source": [],
      "metadata": {
        "id": "e255NXJ6IH4p"
      },
      "execution_count": null,
      "outputs": []
    },
    {
      "cell_type": "markdown",
      "source": [
        "#***DBScan***#"
      ],
      "metadata": {
        "id": "cjpakqraILbe"
      }
    },
    {
      "cell_type": "code",
      "source": [],
      "metadata": {
        "id": "Frk5PVcZIL19"
      },
      "execution_count": null,
      "outputs": []
    },
    {
      "cell_type": "markdown",
      "source": [
        "#***Linear Dirchlet Alloaction***#"
      ],
      "metadata": {
        "id": "BJjvYLNuIQaM"
      }
    },
    {
      "cell_type": "code",
      "source": [],
      "metadata": {
        "id": "2nlPV_03IapV"
      },
      "execution_count": null,
      "outputs": []
    },
    {
      "cell_type": "markdown",
      "source": [
        "#***Domain Specific Feature***#"
      ],
      "metadata": {
        "id": "uySjUx9mIbAB"
      }
    },
    {
      "cell_type": "code",
      "source": [],
      "metadata": {
        "id": "93EX1dUgIh7e"
      },
      "execution_count": null,
      "outputs": []
    },
    {
      "cell_type": "markdown",
      "source": [
        "#***NLTK***#"
      ],
      "metadata": {
        "id": "ufccCgTBIiT4"
      }
    },
    {
      "cell_type": "code",
      "source": [],
      "metadata": {
        "id": "3bbahbhdIlfE"
      },
      "execution_count": null,
      "outputs": []
    },
    {
      "cell_type": "markdown",
      "source": [
        "#***NLTK + Kmeans***#"
      ],
      "metadata": {
        "id": "i9QIuX_KIl5b"
      }
    },
    {
      "cell_type": "code",
      "source": [],
      "metadata": {
        "id": "E_3xSFo7Ip3m"
      },
      "execution_count": null,
      "outputs": []
    },
    {
      "cell_type": "markdown",
      "source": [
        "#***Agglomerative***#"
      ],
      "metadata": {
        "id": "7nSBo2twIqgQ"
      }
    },
    {
      "cell_type": "code",
      "source": [],
      "metadata": {
        "id": "bIw35VREIzSZ"
      },
      "execution_count": null,
      "outputs": []
    }
  ],
  "metadata": {
    "colab": {
      "provenance": []
    },
    "kernelspec": {
      "display_name": "Python 3",
      "name": "python3"
    },
    "language_info": {
      "name": "python"
    }
  },
  "nbformat": 4,
  "nbformat_minor": 0
}